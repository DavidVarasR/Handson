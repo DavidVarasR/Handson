{
 "cells": [
  {
   "cell_type": "code",
   "execution_count": 1,
   "metadata": {
    "execution": {
     "iopub.execute_input": "2022-11-05T08:24:50.79802Z",
     "iopub.status.busy": "2022-11-05T08:24:50.79765Z",
     "iopub.status.idle": "2022-11-05T08:24:50.804783Z",
     "shell.execute_reply": "2022-11-05T08:24:50.803328Z",
     "shell.execute_reply.started": "2022-11-05T08:24:50.797987Z"
    }
   },
   "outputs": [],
   "source": [
    "import pandas as pd \n",
    "import numpy as np \n",
    "import matplotlib.pyplot as plt\n",
    "import seaborn as sns\n",
    "from sklearn.preprocessing import LabelEncoder\n",
    "from sklearn.linear_model import LinearRegression\n",
    "from sklearn.ensemble import RandomForestRegressor\n",
    "from sklearn.model_selection import train_test_split \n",
    "from sklearn.metrics import mean_squared_error,mean_absolute_percentage_error"
   ]
  },
  {
   "cell_type": "code",
   "execution_count": 10,
   "metadata": {
    "execution": {
     "iopub.execute_input": "2022-11-05T08:24:50.808261Z",
     "iopub.status.busy": "2022-11-05T08:24:50.807852Z",
     "iopub.status.idle": "2022-11-05T08:24:50.833326Z",
     "shell.execute_reply": "2022-11-05T08:24:50.831434Z",
     "shell.execute_reply.started": "2022-11-05T08:24:50.808218Z"
    }
   },
   "outputs": [],
   "source": [
    "data =pd.read_csv(\"data.csv\")"
   ]
  },
  {
   "cell_type": "markdown",
   "metadata": {},
   "source": [
    "### Formatting data "
   ]
  },
  {
   "cell_type": "code",
   "execution_count": 7,
   "metadata": {
    "execution": {
     "iopub.execute_input": "2022-11-05T08:24:50.835993Z",
     "iopub.status.busy": "2022-11-05T08:24:50.835588Z",
     "iopub.status.idle": "2022-11-05T08:24:50.855629Z",
     "shell.execute_reply": "2022-11-05T08:24:50.85462Z",
     "shell.execute_reply.started": "2022-11-05T08:24:50.835951Z"
    }
   },
   "outputs": [
    {
     "data": {
      "text/html": [
       "<div>\n",
       "<style scoped>\n",
       "    .dataframe tbody tr th:only-of-type {\n",
       "        vertical-align: middle;\n",
       "    }\n",
       "\n",
       "    .dataframe tbody tr th {\n",
       "        vertical-align: top;\n",
       "    }\n",
       "\n",
       "    .dataframe thead th {\n",
       "        text-align: right;\n",
       "    }\n",
       "</style>\n",
       "<table border=\"1\" class=\"dataframe\">\n",
       "  <thead>\n",
       "    <tr style=\"text-align: right;\">\n",
       "      <th></th>\n",
       "      <th>id</th>\n",
       "      <th>price</th>\n",
       "      <th>bedrooms</th>\n",
       "      <th>bathrooms</th>\n",
       "      <th>sqft_living</th>\n",
       "      <th>sqft_lot</th>\n",
       "      <th>floors</th>\n",
       "      <th>waterfront</th>\n",
       "      <th>view</th>\n",
       "      <th>condition</th>\n",
       "      <th>grade</th>\n",
       "      <th>sqft_above</th>\n",
       "      <th>sqft_basement</th>\n",
       "      <th>zipcode</th>\n",
       "      <th>lat</th>\n",
       "      <th>long</th>\n",
       "      <th>sqft_living15</th>\n",
       "      <th>sqft_lot15</th>\n",
       "    </tr>\n",
       "  </thead>\n",
       "  <tbody>\n",
       "    <tr>\n",
       "      <th>0</th>\n",
       "      <td>7129300520</td>\n",
       "      <td>221900.0</td>\n",
       "      <td>3</td>\n",
       "      <td>1.00</td>\n",
       "      <td>1180</td>\n",
       "      <td>5650</td>\n",
       "      <td>1.0</td>\n",
       "      <td>0</td>\n",
       "      <td>0</td>\n",
       "      <td>3</td>\n",
       "      <td>7</td>\n",
       "      <td>1180</td>\n",
       "      <td>0</td>\n",
       "      <td>98178</td>\n",
       "      <td>47.5112</td>\n",
       "      <td>-122.257</td>\n",
       "      <td>1340</td>\n",
       "      <td>5650</td>\n",
       "    </tr>\n",
       "    <tr>\n",
       "      <th>1</th>\n",
       "      <td>6414100192</td>\n",
       "      <td>538000.0</td>\n",
       "      <td>3</td>\n",
       "      <td>2.25</td>\n",
       "      <td>2570</td>\n",
       "      <td>7242</td>\n",
       "      <td>2.0</td>\n",
       "      <td>0</td>\n",
       "      <td>0</td>\n",
       "      <td>3</td>\n",
       "      <td>7</td>\n",
       "      <td>2170</td>\n",
       "      <td>400</td>\n",
       "      <td>98125</td>\n",
       "      <td>47.7210</td>\n",
       "      <td>-122.319</td>\n",
       "      <td>1690</td>\n",
       "      <td>7639</td>\n",
       "    </tr>\n",
       "    <tr>\n",
       "      <th>2</th>\n",
       "      <td>5631500400</td>\n",
       "      <td>180000.0</td>\n",
       "      <td>2</td>\n",
       "      <td>1.00</td>\n",
       "      <td>770</td>\n",
       "      <td>10000</td>\n",
       "      <td>1.0</td>\n",
       "      <td>0</td>\n",
       "      <td>0</td>\n",
       "      <td>3</td>\n",
       "      <td>6</td>\n",
       "      <td>770</td>\n",
       "      <td>0</td>\n",
       "      <td>98028</td>\n",
       "      <td>47.7379</td>\n",
       "      <td>-122.233</td>\n",
       "      <td>2720</td>\n",
       "      <td>8062</td>\n",
       "    </tr>\n",
       "    <tr>\n",
       "      <th>3</th>\n",
       "      <td>2487200875</td>\n",
       "      <td>604000.0</td>\n",
       "      <td>4</td>\n",
       "      <td>3.00</td>\n",
       "      <td>1960</td>\n",
       "      <td>5000</td>\n",
       "      <td>1.0</td>\n",
       "      <td>0</td>\n",
       "      <td>0</td>\n",
       "      <td>5</td>\n",
       "      <td>7</td>\n",
       "      <td>1050</td>\n",
       "      <td>910</td>\n",
       "      <td>98136</td>\n",
       "      <td>47.5208</td>\n",
       "      <td>-122.393</td>\n",
       "      <td>1360</td>\n",
       "      <td>5000</td>\n",
       "    </tr>\n",
       "    <tr>\n",
       "      <th>4</th>\n",
       "      <td>1954400510</td>\n",
       "      <td>510000.0</td>\n",
       "      <td>3</td>\n",
       "      <td>2.00</td>\n",
       "      <td>1680</td>\n",
       "      <td>8080</td>\n",
       "      <td>1.0</td>\n",
       "      <td>0</td>\n",
       "      <td>0</td>\n",
       "      <td>3</td>\n",
       "      <td>8</td>\n",
       "      <td>1680</td>\n",
       "      <td>0</td>\n",
       "      <td>98074</td>\n",
       "      <td>47.6168</td>\n",
       "      <td>-122.045</td>\n",
       "      <td>1800</td>\n",
       "      <td>7503</td>\n",
       "    </tr>\n",
       "  </tbody>\n",
       "</table>\n",
       "</div>"
      ],
      "text/plain": [
       "           id     price  bedrooms  bathrooms  sqft_living  sqft_lot  floors  \\\n",
       "0  7129300520  221900.0         3       1.00         1180      5650     1.0   \n",
       "1  6414100192  538000.0         3       2.25         2570      7242     2.0   \n",
       "2  5631500400  180000.0         2       1.00          770     10000     1.0   \n",
       "3  2487200875  604000.0         4       3.00         1960      5000     1.0   \n",
       "4  1954400510  510000.0         3       2.00         1680      8080     1.0   \n",
       "\n",
       "   waterfront  view  condition  grade  sqft_above  sqft_basement  zipcode  \\\n",
       "0           0     0          3      7        1180              0    98178   \n",
       "1           0     0          3      7        2170            400    98125   \n",
       "2           0     0          3      6         770              0    98028   \n",
       "3           0     0          5      7        1050            910    98136   \n",
       "4           0     0          3      8        1680              0    98074   \n",
       "\n",
       "       lat     long  sqft_living15  sqft_lot15  \n",
       "0  47.5112 -122.257           1340        5650  \n",
       "1  47.7210 -122.319           1690        7639  \n",
       "2  47.7379 -122.233           2720        8062  \n",
       "3  47.5208 -122.393           1360        5000  \n",
       "4  47.6168 -122.045           1800        7503  "
      ]
     },
     "execution_count": 7,
     "metadata": {},
     "output_type": "execute_result"
    }
   ],
   "source": [
    "\n",
    "data  = data.drop(['date',\"yr_built\",\"yr_renovated\"],axis=1)\n",
    "data.head()"
   ]
  },
  {
   "cell_type": "code",
   "execution_count": 8,
   "metadata": {
    "execution": {
     "iopub.execute_input": "2022-11-05T08:24:50.857815Z",
     "iopub.status.busy": "2022-11-05T08:24:50.85665Z",
     "iopub.status.idle": "2022-11-05T08:24:50.865441Z",
     "shell.execute_reply": "2022-11-05T08:24:50.863984Z",
     "shell.execute_reply.started": "2022-11-05T08:24:50.857756Z"
    }
   },
   "outputs": [],
   "source": [
    "le = LabelEncoder()"
   ]
  },
  {
   "cell_type": "code",
   "execution_count": 9,
   "metadata": {
    "execution": {
     "iopub.execute_input": "2022-11-05T08:24:50.867979Z",
     "iopub.status.busy": "2022-11-05T08:24:50.867657Z",
     "iopub.status.idle": "2022-11-05T08:24:50.879235Z",
     "shell.execute_reply": "2022-11-05T08:24:50.877992Z",
     "shell.execute_reply.started": "2022-11-05T08:24:50.867951Z"
    }
   },
   "outputs": [
    {
     "ename": "KeyError",
     "evalue": "'city'",
     "output_type": "error",
     "traceback": [
      "\u001b[1;31m---------------------------------------------------------------------------\u001b[0m",
      "\u001b[1;31mKeyError\u001b[0m                                  Traceback (most recent call last)",
      "\u001b[1;32m~\\miniconda3\\lib\\site-packages\\pandas\\core\\indexes\\base.py\u001b[0m in \u001b[0;36mget_loc\u001b[1;34m(self, key, method, tolerance)\u001b[0m\n\u001b[0;32m   3799\u001b[0m             \u001b[1;32mtry\u001b[0m\u001b[1;33m:\u001b[0m\u001b[1;33m\u001b[0m\u001b[1;33m\u001b[0m\u001b[0m\n\u001b[1;32m-> 3800\u001b[1;33m                 \u001b[1;32mreturn\u001b[0m \u001b[0mself\u001b[0m\u001b[1;33m.\u001b[0m\u001b[0m_engine\u001b[0m\u001b[1;33m.\u001b[0m\u001b[0mget_loc\u001b[0m\u001b[1;33m(\u001b[0m\u001b[0mcasted_key\u001b[0m\u001b[1;33m)\u001b[0m\u001b[1;33m\u001b[0m\u001b[1;33m\u001b[0m\u001b[0m\n\u001b[0m\u001b[0;32m   3801\u001b[0m             \u001b[1;32mexcept\u001b[0m \u001b[0mKeyError\u001b[0m \u001b[1;32mas\u001b[0m \u001b[0merr\u001b[0m\u001b[1;33m:\u001b[0m\u001b[1;33m\u001b[0m\u001b[1;33m\u001b[0m\u001b[0m\n",
      "\u001b[1;32m~\\miniconda3\\lib\\site-packages\\pandas\\_libs\\index.pyx\u001b[0m in \u001b[0;36mpandas._libs.index.IndexEngine.get_loc\u001b[1;34m()\u001b[0m\n",
      "\u001b[1;32m~\\miniconda3\\lib\\site-packages\\pandas\\_libs\\index.pyx\u001b[0m in \u001b[0;36mpandas._libs.index.IndexEngine.get_loc\u001b[1;34m()\u001b[0m\n",
      "\u001b[1;32mpandas\\_libs\\hashtable_class_helper.pxi\u001b[0m in \u001b[0;36mpandas._libs.hashtable.PyObjectHashTable.get_item\u001b[1;34m()\u001b[0m\n",
      "\u001b[1;32mpandas\\_libs\\hashtable_class_helper.pxi\u001b[0m in \u001b[0;36mpandas._libs.hashtable.PyObjectHashTable.get_item\u001b[1;34m()\u001b[0m\n",
      "\u001b[1;31mKeyError\u001b[0m: 'city'",
      "\nThe above exception was the direct cause of the following exception:\n",
      "\u001b[1;31mKeyError\u001b[0m                                  Traceback (most recent call last)",
      "\u001b[1;32m~\\AppData\\Local\\Temp/ipykernel_8408/2939847917.py\u001b[0m in \u001b[0;36m<module>\u001b[1;34m\u001b[0m\n\u001b[1;32m----> 1\u001b[1;33m \u001b[0mdata\u001b[0m\u001b[1;33m[\u001b[0m\u001b[1;34m'city_new'\u001b[0m\u001b[1;33m]\u001b[0m \u001b[1;33m=\u001b[0m \u001b[0mle\u001b[0m\u001b[1;33m.\u001b[0m\u001b[0mfit_transform\u001b[0m\u001b[1;33m(\u001b[0m\u001b[0mdata\u001b[0m\u001b[1;33m[\u001b[0m\u001b[1;34m'city'\u001b[0m\u001b[1;33m]\u001b[0m\u001b[1;33m)\u001b[0m\u001b[1;33m\u001b[0m\u001b[1;33m\u001b[0m\u001b[0m\n\u001b[0m",
      "\u001b[1;32m~\\miniconda3\\lib\\site-packages\\pandas\\core\\frame.py\u001b[0m in \u001b[0;36m__getitem__\u001b[1;34m(self, key)\u001b[0m\n\u001b[0;32m   3803\u001b[0m             \u001b[1;32mif\u001b[0m \u001b[0mself\u001b[0m\u001b[1;33m.\u001b[0m\u001b[0mcolumns\u001b[0m\u001b[1;33m.\u001b[0m\u001b[0mnlevels\u001b[0m \u001b[1;33m>\u001b[0m \u001b[1;36m1\u001b[0m\u001b[1;33m:\u001b[0m\u001b[1;33m\u001b[0m\u001b[1;33m\u001b[0m\u001b[0m\n\u001b[0;32m   3804\u001b[0m                 \u001b[1;32mreturn\u001b[0m \u001b[0mself\u001b[0m\u001b[1;33m.\u001b[0m\u001b[0m_getitem_multilevel\u001b[0m\u001b[1;33m(\u001b[0m\u001b[0mkey\u001b[0m\u001b[1;33m)\u001b[0m\u001b[1;33m\u001b[0m\u001b[1;33m\u001b[0m\u001b[0m\n\u001b[1;32m-> 3805\u001b[1;33m             \u001b[0mindexer\u001b[0m \u001b[1;33m=\u001b[0m \u001b[0mself\u001b[0m\u001b[1;33m.\u001b[0m\u001b[0mcolumns\u001b[0m\u001b[1;33m.\u001b[0m\u001b[0mget_loc\u001b[0m\u001b[1;33m(\u001b[0m\u001b[0mkey\u001b[0m\u001b[1;33m)\u001b[0m\u001b[1;33m\u001b[0m\u001b[1;33m\u001b[0m\u001b[0m\n\u001b[0m\u001b[0;32m   3806\u001b[0m             \u001b[1;32mif\u001b[0m \u001b[0mis_integer\u001b[0m\u001b[1;33m(\u001b[0m\u001b[0mindexer\u001b[0m\u001b[1;33m)\u001b[0m\u001b[1;33m:\u001b[0m\u001b[1;33m\u001b[0m\u001b[1;33m\u001b[0m\u001b[0m\n\u001b[0;32m   3807\u001b[0m                 \u001b[0mindexer\u001b[0m \u001b[1;33m=\u001b[0m \u001b[1;33m[\u001b[0m\u001b[0mindexer\u001b[0m\u001b[1;33m]\u001b[0m\u001b[1;33m\u001b[0m\u001b[1;33m\u001b[0m\u001b[0m\n",
      "\u001b[1;32m~\\miniconda3\\lib\\site-packages\\pandas\\core\\indexes\\base.py\u001b[0m in \u001b[0;36mget_loc\u001b[1;34m(self, key, method, tolerance)\u001b[0m\n\u001b[0;32m   3800\u001b[0m                 \u001b[1;32mreturn\u001b[0m \u001b[0mself\u001b[0m\u001b[1;33m.\u001b[0m\u001b[0m_engine\u001b[0m\u001b[1;33m.\u001b[0m\u001b[0mget_loc\u001b[0m\u001b[1;33m(\u001b[0m\u001b[0mcasted_key\u001b[0m\u001b[1;33m)\u001b[0m\u001b[1;33m\u001b[0m\u001b[1;33m\u001b[0m\u001b[0m\n\u001b[0;32m   3801\u001b[0m             \u001b[1;32mexcept\u001b[0m \u001b[0mKeyError\u001b[0m \u001b[1;32mas\u001b[0m \u001b[0merr\u001b[0m\u001b[1;33m:\u001b[0m\u001b[1;33m\u001b[0m\u001b[1;33m\u001b[0m\u001b[0m\n\u001b[1;32m-> 3802\u001b[1;33m                 \u001b[1;32mraise\u001b[0m \u001b[0mKeyError\u001b[0m\u001b[1;33m(\u001b[0m\u001b[0mkey\u001b[0m\u001b[1;33m)\u001b[0m \u001b[1;32mfrom\u001b[0m \u001b[0merr\u001b[0m\u001b[1;33m\u001b[0m\u001b[1;33m\u001b[0m\u001b[0m\n\u001b[0m\u001b[0;32m   3803\u001b[0m             \u001b[1;32mexcept\u001b[0m \u001b[0mTypeError\u001b[0m\u001b[1;33m:\u001b[0m\u001b[1;33m\u001b[0m\u001b[1;33m\u001b[0m\u001b[0m\n\u001b[0;32m   3804\u001b[0m                 \u001b[1;31m# If we have a listlike key, _check_indexing_error will raise\u001b[0m\u001b[1;33m\u001b[0m\u001b[1;33m\u001b[0m\u001b[1;33m\u001b[0m\u001b[0m\n",
      "\u001b[1;31mKeyError\u001b[0m: 'city'"
     ]
    }
   ],
   "source": [
    "data['city_new'] = le.fit_transform(data['city'])\n"
   ]
  },
  {
   "cell_type": "code",
   "execution_count": null,
   "metadata": {
    "execution": {
     "iopub.execute_input": "2022-11-05T08:24:50.881655Z",
     "iopub.status.busy": "2022-11-05T08:24:50.881236Z",
     "iopub.status.idle": "2022-11-05T08:24:50.893883Z",
     "shell.execute_reply": "2022-11-05T08:24:50.892979Z",
     "shell.execute_reply.started": "2022-11-05T08:24:50.88162Z"
    }
   },
   "outputs": [],
   "source": [
    "cols  = ['bedrooms',\"bathrooms\",\"floors\",\"price\"]\n",
    "\n",
    "for  col in cols :\n",
    "    data[col] = data[col].astype(int)\n",
    "\n",
    "# Because how can 1.50 bathroom exists"
   ]
  },
  {
   "cell_type": "code",
   "execution_count": null,
   "metadata": {
    "execution": {
     "iopub.execute_input": "2022-11-05T08:24:50.895931Z",
     "iopub.status.busy": "2022-11-05T08:24:50.894918Z",
     "iopub.status.idle": "2022-11-05T08:24:50.913127Z",
     "shell.execute_reply": "2022-11-05T08:24:50.91118Z",
     "shell.execute_reply.started": "2022-11-05T08:24:50.895889Z"
    }
   },
   "outputs": [],
   "source": [
    "data.head()"
   ]
  },
  {
   "cell_type": "markdown",
   "metadata": {},
   "source": [
    "## Exploring data"
   ]
  },
  {
   "cell_type": "code",
   "execution_count": null,
   "metadata": {
    "execution": {
     "iopub.execute_input": "2022-11-05T08:24:50.915735Z",
     "iopub.status.busy": "2022-11-05T08:24:50.914965Z",
     "iopub.status.idle": "2022-11-05T08:24:51.052836Z",
     "shell.execute_reply": "2022-11-05T08:24:51.051902Z",
     "shell.execute_reply.started": "2022-11-05T08:24:50.915701Z"
    }
   },
   "outputs": [],
   "source": [
    "sns.countplot(data=data,x=data['view'])\n",
    "plt.show()"
   ]
  },
  {
   "cell_type": "markdown",
   "metadata": {},
   "source": [
    "#### as we can see view of maximum houses is not good but its ok we will adjust"
   ]
  },
  {
   "cell_type": "code",
   "execution_count": null,
   "metadata": {
    "execution": {
     "iopub.execute_input": "2022-11-05T08:24:51.054707Z",
     "iopub.status.busy": "2022-11-05T08:24:51.053932Z",
     "iopub.status.idle": "2022-11-05T08:24:51.221676Z",
     "shell.execute_reply": "2022-11-05T08:24:51.220415Z",
     "shell.execute_reply.started": "2022-11-05T08:24:51.054674Z"
    }
   },
   "outputs": [],
   "source": [
    "sns.countplot(data=data,x=data['condition'])"
   ]
  },
  {
   "cell_type": "markdown",
   "metadata": {},
   "source": [
    "#### from the above data we can see condition of most houses is moderate not too good not too bad "
   ]
  },
  {
   "cell_type": "code",
   "execution_count": null,
   "metadata": {
    "execution": {
     "iopub.execute_input": "2022-11-05T08:24:51.223989Z",
     "iopub.status.busy": "2022-11-05T08:24:51.223632Z",
     "iopub.status.idle": "2022-11-05T08:24:51.835898Z",
     "shell.execute_reply": "2022-11-05T08:24:51.83415Z",
     "shell.execute_reply.started": "2022-11-05T08:24:51.223955Z"
    }
   },
   "outputs": [],
   "source": [
    "print(list(le.classes_))\n",
    "print(\"\\nTotal Cities Found : \",len(le.classes_))\n",
    "\n",
    "sns.countplot(data=data,x=data['city_new'])\n"
   ]
  },
  {
   "cell_type": "code",
   "execution_count": null,
   "metadata": {
    "execution": {
     "iopub.execute_input": "2022-11-05T08:24:51.840668Z",
     "iopub.status.busy": "2022-11-05T08:24:51.840242Z",
     "iopub.status.idle": "2022-11-05T08:24:51.850041Z",
     "shell.execute_reply": "2022-11-05T08:24:51.848736Z",
     "shell.execute_reply.started": "2022-11-05T08:24:51.840631Z"
    }
   },
   "outputs": [],
   "source": [
    "data['city'].value_counts()"
   ]
  },
  {
   "cell_type": "code",
   "execution_count": null,
   "metadata": {
    "execution": {
     "iopub.execute_input": "2022-11-05T08:24:51.85184Z",
     "iopub.status.busy": "2022-11-05T08:24:51.851547Z",
     "iopub.status.idle": "2022-11-05T08:24:52.004766Z",
     "shell.execute_reply": "2022-11-05T08:24:52.003667Z",
     "shell.execute_reply.started": "2022-11-05T08:24:51.851813Z"
    }
   },
   "outputs": [],
   "source": [
    "data['price'].plot(title='price Range')"
   ]
  },
  {
   "cell_type": "code",
   "execution_count": null,
   "metadata": {
    "execution": {
     "iopub.execute_input": "2022-11-05T08:24:52.006972Z",
     "iopub.status.busy": "2022-11-05T08:24:52.006014Z",
     "iopub.status.idle": "2022-11-05T08:24:52.01655Z",
     "shell.execute_reply": "2022-11-05T08:24:52.014827Z",
     "shell.execute_reply.started": "2022-11-05T08:24:52.006933Z"
    }
   },
   "outputs": [],
   "source": [
    "np.mean(data['price'])"
   ]
  },
  {
   "cell_type": "code",
   "execution_count": null,
   "metadata": {
    "execution": {
     "iopub.execute_input": "2022-11-05T08:24:52.019746Z",
     "iopub.status.busy": "2022-11-05T08:24:52.018217Z",
     "iopub.status.idle": "2022-11-05T08:24:52.144927Z",
     "shell.execute_reply": "2022-11-05T08:24:52.144024Z",
     "shell.execute_reply.started": "2022-11-05T08:24:52.019698Z"
    }
   },
   "outputs": [],
   "source": [
    "sns.countplot(data=data,x=data['floors'])"
   ]
  },
  {
   "cell_type": "code",
   "execution_count": null,
   "metadata": {
    "execution": {
     "iopub.execute_input": "2022-11-05T08:24:52.146769Z",
     "iopub.status.busy": "2022-11-05T08:24:52.146176Z",
     "iopub.status.idle": "2022-11-05T08:24:52.298282Z",
     "shell.execute_reply": "2022-11-05T08:24:52.297416Z",
     "shell.execute_reply.started": "2022-11-05T08:24:52.146729Z"
    }
   },
   "outputs": [],
   "source": [
    "sns.countplot(data=data,x=data['bathrooms'])"
   ]
  },
  {
   "cell_type": "code",
   "execution_count": null,
   "metadata": {
    "execution": {
     "iopub.execute_input": "2022-11-05T08:24:52.30068Z",
     "iopub.status.busy": "2022-11-05T08:24:52.299618Z",
     "iopub.status.idle": "2022-11-05T08:24:52.470726Z",
     "shell.execute_reply": "2022-11-05T08:24:52.468564Z",
     "shell.execute_reply.started": "2022-11-05T08:24:52.300626Z"
    }
   },
   "outputs": [],
   "source": [
    "sns.countplot(data=data,x=data['bedrooms'])"
   ]
  },
  {
   "cell_type": "code",
   "execution_count": null,
   "metadata": {
    "execution": {
     "iopub.execute_input": "2022-11-05T08:24:52.474298Z",
     "iopub.status.busy": "2022-11-05T08:24:52.473296Z",
     "iopub.status.idle": "2022-11-05T08:24:52.595048Z",
     "shell.execute_reply": "2022-11-05T08:24:52.594262Z",
     "shell.execute_reply.started": "2022-11-05T08:24:52.474255Z"
    }
   },
   "outputs": [],
   "source": [
    "sns.countplot(data=data,x=data['waterfront'])"
   ]
  },
  {
   "cell_type": "markdown",
   "metadata": {},
   "source": [
    "#### From all the above data we can conclude that most of the houses have :\n",
    "### =>  no waterfront \n",
    "###  =>  3 bedrooms, 2 bathrooms, have moderate condition \n",
    "### => have bad view and 2 floors  and is setteled in seattle city \n",
    "### => have mean price range $ 551962.97 "
   ]
  },
  {
   "cell_type": "markdown",
   "metadata": {},
   "source": [
    "## Model Creation"
   ]
  },
  {
   "cell_type": "code",
   "execution_count": null,
   "metadata": {
    "execution": {
     "iopub.execute_input": "2022-11-05T08:24:52.597128Z",
     "iopub.status.busy": "2022-11-05T08:24:52.596264Z",
     "iopub.status.idle": "2022-11-05T08:24:52.607094Z",
     "shell.execute_reply": "2022-11-05T08:24:52.60581Z",
     "shell.execute_reply.started": "2022-11-05T08:24:52.59708Z"
    }
   },
   "outputs": [],
   "source": [
    "data['sqft_basement'].value_counts()"
   ]
  },
  {
   "cell_type": "code",
   "execution_count": null,
   "metadata": {
    "execution": {
     "iopub.execute_input": "2022-11-05T08:24:52.60926Z",
     "iopub.status.busy": "2022-11-05T08:24:52.608824Z",
     "iopub.status.idle": "2022-11-05T08:24:52.619621Z",
     "shell.execute_reply": "2022-11-05T08:24:52.618322Z",
     "shell.execute_reply.started": "2022-11-05T08:24:52.609214Z"
    }
   },
   "outputs": [],
   "source": [
    "data = data.drop([\"city\",\"view\",\"waterfront\",\"sqft_basement\"],axis=1)"
   ]
  },
  {
   "cell_type": "markdown",
   "metadata": {},
   "source": [
    "##### we have removed these values because they are not useful features and sqft_basement has approx 2000 rows have value '0' "
   ]
  },
  {
   "cell_type": "code",
   "execution_count": null,
   "metadata": {},
   "outputs": [],
   "source": []
  },
  {
   "cell_type": "code",
   "execution_count": null,
   "metadata": {
    "execution": {
     "iopub.execute_input": "2022-11-05T08:24:52.622054Z",
     "iopub.status.busy": "2022-11-05T08:24:52.621348Z",
     "iopub.status.idle": "2022-11-05T08:24:52.632143Z",
     "shell.execute_reply": "2022-11-05T08:24:52.63068Z",
     "shell.execute_reply.started": "2022-11-05T08:24:52.62201Z"
    }
   },
   "outputs": [],
   "source": [
    "x  = np.array(data.loc[:,data.columns != \"price\"].values)\n",
    "y = np.array(data[\"price\"].values)"
   ]
  },
  {
   "cell_type": "code",
   "execution_count": null,
   "metadata": {
    "execution": {
     "iopub.execute_input": "2022-11-05T08:24:52.634201Z",
     "iopub.status.busy": "2022-11-05T08:24:52.633738Z",
     "iopub.status.idle": "2022-11-05T08:24:52.644106Z",
     "shell.execute_reply": "2022-11-05T08:24:52.643138Z",
     "shell.execute_reply.started": "2022-11-05T08:24:52.634159Z"
    }
   },
   "outputs": [],
   "source": [
    "x"
   ]
  },
  {
   "cell_type": "code",
   "execution_count": null,
   "metadata": {
    "execution": {
     "iopub.execute_input": "2022-11-05T08:24:52.64636Z",
     "iopub.status.busy": "2022-11-05T08:24:52.645412Z",
     "iopub.status.idle": "2022-11-05T08:24:52.659044Z",
     "shell.execute_reply": "2022-11-05T08:24:52.65752Z",
     "shell.execute_reply.started": "2022-11-05T08:24:52.646319Z"
    }
   },
   "outputs": [],
   "source": [
    "y"
   ]
  },
  {
   "cell_type": "code",
   "execution_count": null,
   "metadata": {
    "execution": {
     "iopub.execute_input": "2022-11-05T08:24:52.661901Z",
     "iopub.status.busy": "2022-11-05T08:24:52.660358Z",
     "iopub.status.idle": "2022-11-05T08:24:52.673182Z",
     "shell.execute_reply": "2022-11-05T08:24:52.671964Z",
     "shell.execute_reply.started": "2022-11-05T08:24:52.661843Z"
    }
   },
   "outputs": [],
   "source": [
    "x_train,x_test,y_train,y_test = train_test_split(x,y,test_size=0.1,random_state=42)"
   ]
  },
  {
   "cell_type": "code",
   "execution_count": null,
   "metadata": {
    "execution": {
     "iopub.execute_input": "2022-11-05T08:24:52.674874Z",
     "iopub.status.busy": "2022-11-05T08:24:52.674416Z",
     "iopub.status.idle": "2022-11-05T08:24:52.687019Z",
     "shell.execute_reply": "2022-11-05T08:24:52.685497Z",
     "shell.execute_reply.started": "2022-11-05T08:24:52.674843Z"
    }
   },
   "outputs": [],
   "source": [
    "x"
   ]
  },
  {
   "cell_type": "markdown",
   "metadata": {},
   "source": [
    "### using RandomForestRegressor"
   ]
  },
  {
   "cell_type": "code",
   "execution_count": null,
   "metadata": {
    "execution": {
     "iopub.execute_input": "2022-11-05T08:24:52.72886Z",
     "iopub.status.busy": "2022-11-05T08:24:52.727593Z",
     "iopub.status.idle": "2022-11-05T08:24:52.875196Z",
     "shell.execute_reply": "2022-11-05T08:24:52.874154Z",
     "shell.execute_reply.started": "2022-11-05T08:24:52.728809Z"
    }
   },
   "outputs": [],
   "source": [
    "model = RandomForestRegressor(n_estimators=10)\n",
    "model.fit(x_train,y_train)\n",
    "predictions = model.predict(x_test)"
   ]
  },
  {
   "cell_type": "code",
   "execution_count": null,
   "metadata": {
    "execution": {
     "iopub.execute_input": "2022-11-05T08:24:52.876698Z",
     "iopub.status.busy": "2022-11-05T08:24:52.876407Z",
     "iopub.status.idle": "2022-11-05T08:24:52.883318Z",
     "shell.execute_reply": "2022-11-05T08:24:52.882095Z",
     "shell.execute_reply.started": "2022-11-05T08:24:52.876669Z"
    }
   },
   "outputs": [],
   "source": [
    "mean_absolute_percentage_error(predictions,y_test)"
   ]
  },
  {
   "cell_type": "markdown",
   "metadata": {},
   "source": [
    "### Random Forest is the winner !  because it has least Error"
   ]
  },
  {
   "cell_type": "markdown",
   "metadata": {},
   "source": [
    "### Making Predictions "
   ]
  },
  {
   "cell_type": "code",
   "execution_count": null,
   "metadata": {
    "execution": {
     "iopub.execute_input": "2022-11-05T08:24:52.885097Z",
     "iopub.status.busy": "2022-11-05T08:24:52.884457Z",
     "iopub.status.idle": "2022-11-05T08:24:52.902926Z",
     "shell.execute_reply": "2022-11-05T08:24:52.901693Z",
     "shell.execute_reply.started": "2022-11-05T08:24:52.885024Z"
    }
   },
   "outputs": [],
   "source": [
    "a  = [1,1,200,200,1,2,200,36]\n",
    "model.predict([a])"
   ]
  },
  {
   "cell_type": "code",
   "execution_count": null,
   "metadata": {
    "execution": {
     "iopub.execute_input": "2022-11-05T08:24:52.904628Z",
     "iopub.status.busy": "2022-11-05T08:24:52.90427Z",
     "iopub.status.idle": "2022-11-05T08:24:52.919928Z",
     "shell.execute_reply": "2022-11-05T08:24:52.918288Z",
     "shell.execute_reply.started": "2022-11-05T08:24:52.904596Z"
    }
   },
   "outputs": [],
   "source": [
    "le.transform(['Shoreline'])"
   ]
  },
  {
   "cell_type": "code",
   "execution_count": null,
   "metadata": {
    "execution": {
     "iopub.execute_input": "2022-11-05T08:24:52.92178Z",
     "iopub.status.busy": "2022-11-05T08:24:52.921067Z",
     "iopub.status.idle": "2022-11-05T08:24:52.933239Z",
     "shell.execute_reply": "2022-11-05T08:24:52.931958Z",
     "shell.execute_reply.started": "2022-11-05T08:24:52.921735Z"
    }
   },
   "outputs": [],
   "source": [
    "index  = 56\n",
    "pred = model.predict([x_test[index]])[0]\n",
    "print(y_test[index])\n",
    "print(\"Amout : {0:.2f}\".format(pred))"
   ]
  }
 ],
 "metadata": {
  "kernelspec": {
   "display_name": "Python 3 (ipykernel)",
   "language": "python",
   "name": "python3"
  },
  "language_info": {
   "codemirror_mode": {
    "name": "ipython",
    "version": 3
   },
   "file_extension": ".py",
   "mimetype": "text/x-python",
   "name": "python",
   "nbconvert_exporter": "python",
   "pygments_lexer": "ipython3",
   "version": "3.9.5"
  }
 },
 "nbformat": 4,
 "nbformat_minor": 4
}
