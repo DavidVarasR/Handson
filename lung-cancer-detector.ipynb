{
 "cells": [
  {
   "cell_type": "markdown",
   "metadata": {
    "id": "1dOr7GOIQsV5"
   },
   "source": [
    "# Lung Cancer Detector"
   ]
  },
  {
   "cell_type": "code",
   "execution_count": 1,
   "metadata": {
    "execution": {
     "iopub.execute_input": "2022-10-31T15:50:28.918033Z",
     "iopub.status.busy": "2022-10-31T15:50:28.91687Z",
     "iopub.status.idle": "2022-10-31T15:50:28.926033Z",
     "shell.execute_reply": "2022-10-31T15:50:28.925087Z",
     "shell.execute_reply.started": "2022-10-31T15:50:28.917982Z"
    },
    "id": "0fGdotPGQ1yv"
   },
   "outputs": [],
   "source": [
    "import numpy as np\n",
    "import pandas as pd\n",
    "import matplotlib.pyplot as plt\n",
    "%matplotlib inline\n",
    "import seaborn as sns"
   ]
  },
  {
   "cell_type": "code",
   "execution_count": 2,
   "metadata": {
    "execution": {
     "iopub.execute_input": "2022-10-31T15:50:28.928635Z",
     "iopub.status.busy": "2022-10-31T15:50:28.92763Z",
     "iopub.status.idle": "2022-10-31T15:50:28.940283Z",
     "shell.execute_reply": "2022-10-31T15:50:28.938774Z",
     "shell.execute_reply.started": "2022-10-31T15:50:28.928585Z"
    },
    "id": "NY_zk5KFRDpo"
   },
   "outputs": [],
   "source": [
    "from sklearn.svm import SVC\n",
    "from sklearn.naive_bayes import GaussianNB\n",
    "\n",
    "from sklearn.model_selection import train_test_split\n",
    "from sklearn.metrics import accuracy_score\n",
    "from sklearn.metrics import f1_score\n",
    "from sklearn.metrics import r2_score\n",
    "from sklearn.metrics import precision_score\n",
    "from sklearn.metrics import recall_score\n",
    "from sklearn.metrics import mean_absolute_error\n",
    "from sklearn.metrics import mean_squared_error\n",
    "from sklearn.metrics import roc_auc_score\n",
    "from sklearn.metrics import roc_curve\n",
    "from sklearn.metrics import ConfusionMatrixDisplay\n",
    "from sklearn.model_selection import GridSearchCV\n",
    "from sklearn.model_selection import RandomizedSearchCV\n",
    "from sklearn.preprocessing import StandardScaler"
   ]
  },
  {
   "cell_type": "markdown",
   "metadata": {
    "id": "caC7FdkJRIsT"
   },
   "source": [
    "## Explore our data"
   ]
  },
  {
   "cell_type": "code",
   "execution_count": 3,
   "metadata": {
    "execution": {
     "iopub.execute_input": "2022-10-31T15:50:28.893852Z",
     "iopub.status.busy": "2022-10-31T15:50:28.892771Z",
     "iopub.status.idle": "2022-10-31T15:50:28.915078Z",
     "shell.execute_reply": "2022-10-31T15:50:28.913751Z",
     "shell.execute_reply.started": "2022-10-31T15:50:28.893805Z"
    },
    "id": "g0VhAiMoRMLT",
    "outputId": "3fa325b6-a403-4acf-abe1-02c812c794c9"
   },
   "outputs": [
    {
     "data": {
      "text/html": [
       "<div>\n",
       "<style scoped>\n",
       "    .dataframe tbody tr th:only-of-type {\n",
       "        vertical-align: middle;\n",
       "    }\n",
       "\n",
       "    .dataframe tbody tr th {\n",
       "        vertical-align: top;\n",
       "    }\n",
       "\n",
       "    .dataframe thead th {\n",
       "        text-align: right;\n",
       "    }\n",
       "</style>\n",
       "<table border=\"1\" class=\"dataframe\">\n",
       "  <thead>\n",
       "    <tr style=\"text-align: right;\">\n",
       "      <th></th>\n",
       "      <th>Patient Id</th>\n",
       "      <th>Age</th>\n",
       "      <th>Gender</th>\n",
       "      <th>Air Pollution</th>\n",
       "      <th>Alcohol use</th>\n",
       "      <th>Dust Allergy</th>\n",
       "      <th>OccuPational Hazards</th>\n",
       "      <th>Genetic Risk</th>\n",
       "      <th>chronic Lung Disease</th>\n",
       "      <th>Balanced Diet</th>\n",
       "      <th>...</th>\n",
       "      <th>Fatigue</th>\n",
       "      <th>Weight Loss</th>\n",
       "      <th>Shortness of Breath</th>\n",
       "      <th>Wheezing</th>\n",
       "      <th>Swallowing Difficulty</th>\n",
       "      <th>Clubbing of Finger Nails</th>\n",
       "      <th>Frequent Cold</th>\n",
       "      <th>Dry Cough</th>\n",
       "      <th>Snoring</th>\n",
       "      <th>Level</th>\n",
       "    </tr>\n",
       "  </thead>\n",
       "  <tbody>\n",
       "    <tr>\n",
       "      <th>1</th>\n",
       "      <td>P1</td>\n",
       "      <td>33</td>\n",
       "      <td>1</td>\n",
       "      <td>2</td>\n",
       "      <td>4</td>\n",
       "      <td>5</td>\n",
       "      <td>4</td>\n",
       "      <td>3</td>\n",
       "      <td>2</td>\n",
       "      <td>2</td>\n",
       "      <td>...</td>\n",
       "      <td>3</td>\n",
       "      <td>4</td>\n",
       "      <td>2</td>\n",
       "      <td>2</td>\n",
       "      <td>3</td>\n",
       "      <td>1</td>\n",
       "      <td>2</td>\n",
       "      <td>3</td>\n",
       "      <td>4</td>\n",
       "      <td>Low</td>\n",
       "    </tr>\n",
       "    <tr>\n",
       "      <th>2</th>\n",
       "      <td>P10</td>\n",
       "      <td>17</td>\n",
       "      <td>1</td>\n",
       "      <td>3</td>\n",
       "      <td>1</td>\n",
       "      <td>5</td>\n",
       "      <td>3</td>\n",
       "      <td>4</td>\n",
       "      <td>2</td>\n",
       "      <td>2</td>\n",
       "      <td>...</td>\n",
       "      <td>1</td>\n",
       "      <td>3</td>\n",
       "      <td>7</td>\n",
       "      <td>8</td>\n",
       "      <td>6</td>\n",
       "      <td>2</td>\n",
       "      <td>1</td>\n",
       "      <td>7</td>\n",
       "      <td>2</td>\n",
       "      <td>Medium</td>\n",
       "    </tr>\n",
       "    <tr>\n",
       "      <th>3</th>\n",
       "      <td>P100</td>\n",
       "      <td>35</td>\n",
       "      <td>1</td>\n",
       "      <td>4</td>\n",
       "      <td>5</td>\n",
       "      <td>6</td>\n",
       "      <td>5</td>\n",
       "      <td>5</td>\n",
       "      <td>4</td>\n",
       "      <td>6</td>\n",
       "      <td>...</td>\n",
       "      <td>8</td>\n",
       "      <td>7</td>\n",
       "      <td>9</td>\n",
       "      <td>2</td>\n",
       "      <td>1</td>\n",
       "      <td>4</td>\n",
       "      <td>6</td>\n",
       "      <td>7</td>\n",
       "      <td>2</td>\n",
       "      <td>High</td>\n",
       "    </tr>\n",
       "    <tr>\n",
       "      <th>4</th>\n",
       "      <td>P1000</td>\n",
       "      <td>37</td>\n",
       "      <td>1</td>\n",
       "      <td>7</td>\n",
       "      <td>7</td>\n",
       "      <td>7</td>\n",
       "      <td>7</td>\n",
       "      <td>6</td>\n",
       "      <td>7</td>\n",
       "      <td>7</td>\n",
       "      <td>...</td>\n",
       "      <td>4</td>\n",
       "      <td>2</td>\n",
       "      <td>3</td>\n",
       "      <td>1</td>\n",
       "      <td>4</td>\n",
       "      <td>5</td>\n",
       "      <td>6</td>\n",
       "      <td>7</td>\n",
       "      <td>5</td>\n",
       "      <td>High</td>\n",
       "    </tr>\n",
       "    <tr>\n",
       "      <th>5</th>\n",
       "      <td>P101</td>\n",
       "      <td>46</td>\n",
       "      <td>1</td>\n",
       "      <td>6</td>\n",
       "      <td>8</td>\n",
       "      <td>7</td>\n",
       "      <td>7</td>\n",
       "      <td>7</td>\n",
       "      <td>6</td>\n",
       "      <td>7</td>\n",
       "      <td>...</td>\n",
       "      <td>3</td>\n",
       "      <td>2</td>\n",
       "      <td>4</td>\n",
       "      <td>1</td>\n",
       "      <td>4</td>\n",
       "      <td>2</td>\n",
       "      <td>4</td>\n",
       "      <td>2</td>\n",
       "      <td>3</td>\n",
       "      <td>High</td>\n",
       "    </tr>\n",
       "  </tbody>\n",
       "</table>\n",
       "<p>5 rows × 25 columns</p>\n",
       "</div>"
      ],
      "text/plain": [
       "0 Patient Id Age Gender Air Pollution Alcohol use Dust Allergy  \\\n",
       "1         P1  33      1             2           4            5   \n",
       "2        P10  17      1             3           1            5   \n",
       "3       P100  35      1             4           5            6   \n",
       "4      P1000  37      1             7           7            7   \n",
       "5       P101  46      1             6           8            7   \n",
       "\n",
       "0 OccuPational Hazards Genetic Risk chronic Lung Disease Balanced Diet  ...  \\\n",
       "1                    4            3                    2             2  ...   \n",
       "2                    3            4                    2             2  ...   \n",
       "3                    5            5                    4             6  ...   \n",
       "4                    7            6                    7             7  ...   \n",
       "5                    7            7                    6             7  ...   \n",
       "\n",
       "0 Fatigue Weight Loss Shortness of Breath Wheezing Swallowing Difficulty  \\\n",
       "1       3           4                   2        2                     3   \n",
       "2       1           3                   7        8                     6   \n",
       "3       8           7                   9        2                     1   \n",
       "4       4           2                   3        1                     4   \n",
       "5       3           2                   4        1                     4   \n",
       "\n",
       "0 Clubbing of Finger Nails Frequent Cold Dry Cough Snoring   Level  \n",
       "1                        1             2         3       4     Low  \n",
       "2                        2             1         7       2  Medium  \n",
       "3                        4             6         7       2    High  \n",
       "4                        5             6         7       5    High  \n",
       "5                        2             4         2       3    High  \n",
       "\n",
       "[5 rows x 25 columns]"
      ]
     },
     "execution_count": 3,
     "metadata": {},
     "output_type": "execute_result"
    }
   ],
   "source": [
    "df = pd.read_excel('cancer patient data sets.xlsx', header=None)\n",
    "new_header=df.iloc[0]#Reads the first row which contains the headers\n",
    "df=df[1:]#Slices the rest of the data frame from header\n",
    "df.columns=new_header#Sets the header labels\n",
    "df.head()"
   ]
  },
  {
   "cell_type": "code",
   "execution_count": 4,
   "metadata": {
    "execution": {
     "iopub.execute_input": "2022-10-31T15:50:28.942752Z",
     "iopub.status.busy": "2022-10-31T15:50:28.942292Z",
     "iopub.status.idle": "2022-10-31T15:50:28.95326Z",
     "shell.execute_reply": "2022-10-31T15:50:28.952071Z",
     "shell.execute_reply.started": "2022-10-31T15:50:28.942687Z"
    },
    "id": "c3BgvfFASKBy"
   },
   "outputs": [],
   "source": [
    "df.columns = df.columns.str.lower()"
   ]
  },
  {
   "cell_type": "code",
   "execution_count": 5,
   "metadata": {
    "execution": {
     "iopub.execute_input": "2022-10-31T15:50:28.95666Z",
     "iopub.status.busy": "2022-10-31T15:50:28.955502Z",
     "iopub.status.idle": "2022-10-31T15:50:28.97697Z",
     "shell.execute_reply": "2022-10-31T15:50:28.975466Z",
     "shell.execute_reply.started": "2022-10-31T15:50:28.956608Z"
    },
    "id": "RegIsGETSO5N",
    "outputId": "9f8cbc3c-7895-45ae-d61a-102317c723d0"
   },
   "outputs": [
    {
     "data": {
      "text/html": [
       "<div>\n",
       "<style scoped>\n",
       "    .dataframe tbody tr th:only-of-type {\n",
       "        vertical-align: middle;\n",
       "    }\n",
       "\n",
       "    .dataframe tbody tr th {\n",
       "        vertical-align: top;\n",
       "    }\n",
       "\n",
       "    .dataframe thead th {\n",
       "        text-align: right;\n",
       "    }\n",
       "</style>\n",
       "<table border=\"1\" class=\"dataframe\">\n",
       "  <thead>\n",
       "    <tr style=\"text-align: right;\">\n",
       "      <th></th>\n",
       "      <th>patient id</th>\n",
       "      <th>age</th>\n",
       "      <th>gender</th>\n",
       "      <th>air pollution</th>\n",
       "      <th>alcohol use</th>\n",
       "      <th>dust allergy</th>\n",
       "      <th>occupational hazards</th>\n",
       "      <th>genetic risk</th>\n",
       "      <th>chronic lung disease</th>\n",
       "      <th>balanced diet</th>\n",
       "      <th>...</th>\n",
       "      <th>fatigue</th>\n",
       "      <th>weight loss</th>\n",
       "      <th>shortness of breath</th>\n",
       "      <th>wheezing</th>\n",
       "      <th>swallowing difficulty</th>\n",
       "      <th>clubbing of finger nails</th>\n",
       "      <th>frequent cold</th>\n",
       "      <th>dry cough</th>\n",
       "      <th>snoring</th>\n",
       "      <th>level</th>\n",
       "    </tr>\n",
       "  </thead>\n",
       "  <tbody>\n",
       "    <tr>\n",
       "      <th>1</th>\n",
       "      <td>P1</td>\n",
       "      <td>33</td>\n",
       "      <td>1</td>\n",
       "      <td>2</td>\n",
       "      <td>4</td>\n",
       "      <td>5</td>\n",
       "      <td>4</td>\n",
       "      <td>3</td>\n",
       "      <td>2</td>\n",
       "      <td>2</td>\n",
       "      <td>...</td>\n",
       "      <td>3</td>\n",
       "      <td>4</td>\n",
       "      <td>2</td>\n",
       "      <td>2</td>\n",
       "      <td>3</td>\n",
       "      <td>1</td>\n",
       "      <td>2</td>\n",
       "      <td>3</td>\n",
       "      <td>4</td>\n",
       "      <td>Low</td>\n",
       "    </tr>\n",
       "    <tr>\n",
       "      <th>2</th>\n",
       "      <td>P10</td>\n",
       "      <td>17</td>\n",
       "      <td>1</td>\n",
       "      <td>3</td>\n",
       "      <td>1</td>\n",
       "      <td>5</td>\n",
       "      <td>3</td>\n",
       "      <td>4</td>\n",
       "      <td>2</td>\n",
       "      <td>2</td>\n",
       "      <td>...</td>\n",
       "      <td>1</td>\n",
       "      <td>3</td>\n",
       "      <td>7</td>\n",
       "      <td>8</td>\n",
       "      <td>6</td>\n",
       "      <td>2</td>\n",
       "      <td>1</td>\n",
       "      <td>7</td>\n",
       "      <td>2</td>\n",
       "      <td>Medium</td>\n",
       "    </tr>\n",
       "    <tr>\n",
       "      <th>3</th>\n",
       "      <td>P100</td>\n",
       "      <td>35</td>\n",
       "      <td>1</td>\n",
       "      <td>4</td>\n",
       "      <td>5</td>\n",
       "      <td>6</td>\n",
       "      <td>5</td>\n",
       "      <td>5</td>\n",
       "      <td>4</td>\n",
       "      <td>6</td>\n",
       "      <td>...</td>\n",
       "      <td>8</td>\n",
       "      <td>7</td>\n",
       "      <td>9</td>\n",
       "      <td>2</td>\n",
       "      <td>1</td>\n",
       "      <td>4</td>\n",
       "      <td>6</td>\n",
       "      <td>7</td>\n",
       "      <td>2</td>\n",
       "      <td>High</td>\n",
       "    </tr>\n",
       "    <tr>\n",
       "      <th>4</th>\n",
       "      <td>P1000</td>\n",
       "      <td>37</td>\n",
       "      <td>1</td>\n",
       "      <td>7</td>\n",
       "      <td>7</td>\n",
       "      <td>7</td>\n",
       "      <td>7</td>\n",
       "      <td>6</td>\n",
       "      <td>7</td>\n",
       "      <td>7</td>\n",
       "      <td>...</td>\n",
       "      <td>4</td>\n",
       "      <td>2</td>\n",
       "      <td>3</td>\n",
       "      <td>1</td>\n",
       "      <td>4</td>\n",
       "      <td>5</td>\n",
       "      <td>6</td>\n",
       "      <td>7</td>\n",
       "      <td>5</td>\n",
       "      <td>High</td>\n",
       "    </tr>\n",
       "    <tr>\n",
       "      <th>5</th>\n",
       "      <td>P101</td>\n",
       "      <td>46</td>\n",
       "      <td>1</td>\n",
       "      <td>6</td>\n",
       "      <td>8</td>\n",
       "      <td>7</td>\n",
       "      <td>7</td>\n",
       "      <td>7</td>\n",
       "      <td>6</td>\n",
       "      <td>7</td>\n",
       "      <td>...</td>\n",
       "      <td>3</td>\n",
       "      <td>2</td>\n",
       "      <td>4</td>\n",
       "      <td>1</td>\n",
       "      <td>4</td>\n",
       "      <td>2</td>\n",
       "      <td>4</td>\n",
       "      <td>2</td>\n",
       "      <td>3</td>\n",
       "      <td>High</td>\n",
       "    </tr>\n",
       "  </tbody>\n",
       "</table>\n",
       "<p>5 rows × 25 columns</p>\n",
       "</div>"
      ],
      "text/plain": [
       "0 patient id age gender air pollution alcohol use dust allergy  \\\n",
       "1         P1  33      1             2           4            5   \n",
       "2        P10  17      1             3           1            5   \n",
       "3       P100  35      1             4           5            6   \n",
       "4      P1000  37      1             7           7            7   \n",
       "5       P101  46      1             6           8            7   \n",
       "\n",
       "0 occupational hazards genetic risk chronic lung disease balanced diet  ...  \\\n",
       "1                    4            3                    2             2  ...   \n",
       "2                    3            4                    2             2  ...   \n",
       "3                    5            5                    4             6  ...   \n",
       "4                    7            6                    7             7  ...   \n",
       "5                    7            7                    6             7  ...   \n",
       "\n",
       "0 fatigue weight loss shortness of breath wheezing swallowing difficulty  \\\n",
       "1       3           4                   2        2                     3   \n",
       "2       1           3                   7        8                     6   \n",
       "3       8           7                   9        2                     1   \n",
       "4       4           2                   3        1                     4   \n",
       "5       3           2                   4        1                     4   \n",
       "\n",
       "0 clubbing of finger nails frequent cold dry cough snoring   level  \n",
       "1                        1             2         3       4     Low  \n",
       "2                        2             1         7       2  Medium  \n",
       "3                        4             6         7       2    High  \n",
       "4                        5             6         7       5    High  \n",
       "5                        2             4         2       3    High  \n",
       "\n",
       "[5 rows x 25 columns]"
      ]
     },
     "execution_count": 5,
     "metadata": {},
     "output_type": "execute_result"
    }
   ],
   "source": [
    "df.head()"
   ]
  },
  {
   "cell_type": "code",
   "execution_count": 6,
   "metadata": {
    "execution": {
     "iopub.execute_input": "2022-10-31T15:50:28.979896Z",
     "iopub.status.busy": "2022-10-31T15:50:28.979015Z",
     "iopub.status.idle": "2022-10-31T15:50:28.989725Z",
     "shell.execute_reply": "2022-10-31T15:50:28.988656Z",
     "shell.execute_reply.started": "2022-10-31T15:50:28.979844Z"
    },
    "id": "DLh4TVX8RliV",
    "outputId": "f19547ca-241c-4a41-941e-eef95da0d068"
   },
   "outputs": [
    {
     "data": {
      "text/plain": [
       "1000"
      ]
     },
     "execution_count": 6,
     "metadata": {},
     "output_type": "execute_result"
    }
   ],
   "source": [
    "len(df)"
   ]
  },
  {
   "cell_type": "code",
   "execution_count": 7,
   "metadata": {
    "execution": {
     "iopub.execute_input": "2022-10-31T15:50:28.99251Z",
     "iopub.status.busy": "2022-10-31T15:50:28.991662Z",
     "iopub.status.idle": "2022-10-31T15:50:29.010959Z",
     "shell.execute_reply": "2022-10-31T15:50:29.009649Z",
     "shell.execute_reply.started": "2022-10-31T15:50:28.992461Z"
    },
    "id": "404PAJzNRsIa",
    "outputId": "b578811a-eb67-4bd4-b539-099df36d26df"
   },
   "outputs": [
    {
     "name": "stdout",
     "output_type": "stream",
     "text": [
      "<class 'pandas.core.frame.DataFrame'>\n",
      "RangeIndex: 1000 entries, 1 to 1000\n",
      "Data columns (total 25 columns):\n",
      " #   Column                    Non-Null Count  Dtype \n",
      "---  ------                    --------------  ----- \n",
      " 0   patient id                1000 non-null   object\n",
      " 1   age                       1000 non-null   object\n",
      " 2   gender                    1000 non-null   object\n",
      " 3   air pollution             1000 non-null   object\n",
      " 4   alcohol use               1000 non-null   object\n",
      " 5   dust allergy              1000 non-null   object\n",
      " 6   occupational hazards      1000 non-null   object\n",
      " 7   genetic risk              1000 non-null   object\n",
      " 8   chronic lung disease      1000 non-null   object\n",
      " 9   balanced diet             1000 non-null   object\n",
      " 10  obesity                   1000 non-null   object\n",
      " 11  smoking                   1000 non-null   object\n",
      " 12  passive smoker            1000 non-null   object\n",
      " 13  chest pain                1000 non-null   object\n",
      " 14  coughing of blood         1000 non-null   object\n",
      " 15  fatigue                   1000 non-null   object\n",
      " 16  weight loss               1000 non-null   object\n",
      " 17  shortness of breath       1000 non-null   object\n",
      " 18  wheezing                  1000 non-null   object\n",
      " 19  swallowing difficulty     1000 non-null   object\n",
      " 20  clubbing of finger nails  1000 non-null   object\n",
      " 21  frequent cold             1000 non-null   object\n",
      " 22  dry cough                 1000 non-null   object\n",
      " 23  snoring                   1000 non-null   object\n",
      " 24  level                     1000 non-null   object\n",
      "dtypes: object(25)\n",
      "memory usage: 195.4+ KB\n"
     ]
    }
   ],
   "source": [
    "df.info()"
   ]
  },
  {
   "cell_type": "code",
   "execution_count": 8,
   "metadata": {
    "execution": {
     "iopub.execute_input": "2022-10-31T15:50:29.014216Z",
     "iopub.status.busy": "2022-10-31T15:50:29.013239Z",
     "iopub.status.idle": "2022-10-31T15:50:29.075511Z",
     "shell.execute_reply": "2022-10-31T15:50:29.074287Z",
     "shell.execute_reply.started": "2022-10-31T15:50:29.014144Z"
    },
    "id": "d7NUjdcuRtLM",
    "outputId": "b498aab5-6aae-4d69-bea5-398f2b2c45b1"
   },
   "outputs": [
    {
     "data": {
      "text/html": [
       "<div>\n",
       "<style scoped>\n",
       "    .dataframe tbody tr th:only-of-type {\n",
       "        vertical-align: middle;\n",
       "    }\n",
       "\n",
       "    .dataframe tbody tr th {\n",
       "        vertical-align: top;\n",
       "    }\n",
       "\n",
       "    .dataframe thead th {\n",
       "        text-align: right;\n",
       "    }\n",
       "</style>\n",
       "<table border=\"1\" class=\"dataframe\">\n",
       "  <thead>\n",
       "    <tr style=\"text-align: right;\">\n",
       "      <th></th>\n",
       "      <th>patient id</th>\n",
       "      <th>age</th>\n",
       "      <th>gender</th>\n",
       "      <th>air pollution</th>\n",
       "      <th>alcohol use</th>\n",
       "      <th>dust allergy</th>\n",
       "      <th>occupational hazards</th>\n",
       "      <th>genetic risk</th>\n",
       "      <th>chronic lung disease</th>\n",
       "      <th>balanced diet</th>\n",
       "      <th>...</th>\n",
       "      <th>fatigue</th>\n",
       "      <th>weight loss</th>\n",
       "      <th>shortness of breath</th>\n",
       "      <th>wheezing</th>\n",
       "      <th>swallowing difficulty</th>\n",
       "      <th>clubbing of finger nails</th>\n",
       "      <th>frequent cold</th>\n",
       "      <th>dry cough</th>\n",
       "      <th>snoring</th>\n",
       "      <th>level</th>\n",
       "    </tr>\n",
       "  </thead>\n",
       "  <tbody>\n",
       "    <tr>\n",
       "      <th>count</th>\n",
       "      <td>1000</td>\n",
       "      <td>1000</td>\n",
       "      <td>1000</td>\n",
       "      <td>1000</td>\n",
       "      <td>1000</td>\n",
       "      <td>1000</td>\n",
       "      <td>1000</td>\n",
       "      <td>1000</td>\n",
       "      <td>1000</td>\n",
       "      <td>1000</td>\n",
       "      <td>...</td>\n",
       "      <td>1000</td>\n",
       "      <td>1000</td>\n",
       "      <td>1000</td>\n",
       "      <td>1000</td>\n",
       "      <td>1000</td>\n",
       "      <td>1000</td>\n",
       "      <td>1000</td>\n",
       "      <td>1000</td>\n",
       "      <td>1000</td>\n",
       "      <td>1000</td>\n",
       "    </tr>\n",
       "    <tr>\n",
       "      <th>unique</th>\n",
       "      <td>1000</td>\n",
       "      <td>40</td>\n",
       "      <td>2</td>\n",
       "      <td>8</td>\n",
       "      <td>8</td>\n",
       "      <td>8</td>\n",
       "      <td>8</td>\n",
       "      <td>7</td>\n",
       "      <td>7</td>\n",
       "      <td>7</td>\n",
       "      <td>...</td>\n",
       "      <td>8</td>\n",
       "      <td>8</td>\n",
       "      <td>8</td>\n",
       "      <td>8</td>\n",
       "      <td>8</td>\n",
       "      <td>9</td>\n",
       "      <td>7</td>\n",
       "      <td>7</td>\n",
       "      <td>7</td>\n",
       "      <td>3</td>\n",
       "    </tr>\n",
       "    <tr>\n",
       "      <th>top</th>\n",
       "      <td>P1</td>\n",
       "      <td>35</td>\n",
       "      <td>1</td>\n",
       "      <td>6</td>\n",
       "      <td>2</td>\n",
       "      <td>7</td>\n",
       "      <td>7</td>\n",
       "      <td>7</td>\n",
       "      <td>6</td>\n",
       "      <td>7</td>\n",
       "      <td>...</td>\n",
       "      <td>3</td>\n",
       "      <td>2</td>\n",
       "      <td>2</td>\n",
       "      <td>2</td>\n",
       "      <td>1</td>\n",
       "      <td>2</td>\n",
       "      <td>3</td>\n",
       "      <td>2</td>\n",
       "      <td>2</td>\n",
       "      <td>High</td>\n",
       "    </tr>\n",
       "    <tr>\n",
       "      <th>freq</th>\n",
       "      <td>1</td>\n",
       "      <td>77</td>\n",
       "      <td>598</td>\n",
       "      <td>326</td>\n",
       "      <td>202</td>\n",
       "      <td>405</td>\n",
       "      <td>365</td>\n",
       "      <td>327</td>\n",
       "      <td>308</td>\n",
       "      <td>296</td>\n",
       "      <td>...</td>\n",
       "      <td>212</td>\n",
       "      <td>280</td>\n",
       "      <td>243</td>\n",
       "      <td>240</td>\n",
       "      <td>221</td>\n",
       "      <td>240</td>\n",
       "      <td>230</td>\n",
       "      <td>251</td>\n",
       "      <td>300</td>\n",
       "      <td>365</td>\n",
       "    </tr>\n",
       "  </tbody>\n",
       "</table>\n",
       "<p>4 rows × 25 columns</p>\n",
       "</div>"
      ],
      "text/plain": [
       "0      patient id   age  gender  air pollution  alcohol use  dust allergy  \\\n",
       "count        1000  1000    1000           1000         1000          1000   \n",
       "unique       1000    40       2              8            8             8   \n",
       "top            P1    35       1              6            2             7   \n",
       "freq            1    77     598            326          202           405   \n",
       "\n",
       "0       occupational hazards  genetic risk  chronic lung disease  \\\n",
       "count                   1000          1000                  1000   \n",
       "unique                     8             7                     7   \n",
       "top                        7             7                     6   \n",
       "freq                     365           327                   308   \n",
       "\n",
       "0       balanced diet  ...  fatigue  weight loss  shortness of breath  \\\n",
       "count            1000  ...     1000         1000                 1000   \n",
       "unique              7  ...        8            8                    8   \n",
       "top                 7  ...        3            2                    2   \n",
       "freq              296  ...      212          280                  243   \n",
       "\n",
       "0       wheezing  swallowing difficulty  clubbing of finger nails  \\\n",
       "count       1000                   1000                      1000   \n",
       "unique         8                      8                         9   \n",
       "top            2                      1                         2   \n",
       "freq         240                    221                       240   \n",
       "\n",
       "0       frequent cold  dry cough  snoring  level  \n",
       "count            1000       1000     1000   1000  \n",
       "unique              7          7        7      3  \n",
       "top                 3          2        2   High  \n",
       "freq              230        251      300    365  \n",
       "\n",
       "[4 rows x 25 columns]"
      ]
     },
     "execution_count": 8,
     "metadata": {},
     "output_type": "execute_result"
    }
   ],
   "source": [
    "df.describe()"
   ]
  },
  {
   "cell_type": "code",
   "execution_count": 9,
   "metadata": {
    "execution": {
     "iopub.execute_input": "2022-10-31T15:50:29.078007Z",
     "iopub.status.busy": "2022-10-31T15:50:29.077266Z",
     "iopub.status.idle": "2022-10-31T15:50:29.085522Z",
     "shell.execute_reply": "2022-10-31T15:50:29.084297Z",
     "shell.execute_reply.started": "2022-10-31T15:50:29.07796Z"
    },
    "id": "MISAU72URwR_",
    "outputId": "5adaddc4-eea2-4675-a171-053a62ec9ff4"
   },
   "outputs": [
    {
     "data": {
      "text/plain": [
       "Index(['patient id', 'age', 'gender', 'air pollution', 'alcohol use',\n",
       "       'dust allergy', 'occupational hazards', 'genetic risk',\n",
       "       'chronic lung disease', 'balanced diet', 'obesity', 'smoking',\n",
       "       'passive smoker', 'chest pain', 'coughing of blood', 'fatigue',\n",
       "       'weight loss', 'shortness of breath', 'wheezing',\n",
       "       'swallowing difficulty', 'clubbing of finger nails', 'frequent cold',\n",
       "       'dry cough', 'snoring', 'level'],\n",
       "      dtype='object', name=0)"
      ]
     },
     "execution_count": 9,
     "metadata": {},
     "output_type": "execute_result"
    }
   ],
   "source": [
    "df.columns"
   ]
  },
  {
   "cell_type": "code",
   "execution_count": 10,
   "metadata": {
    "execution": {
     "iopub.execute_input": "2022-10-31T15:50:29.087904Z",
     "iopub.status.busy": "2022-10-31T15:50:29.086773Z",
     "iopub.status.idle": "2022-10-31T15:50:29.112141Z",
     "shell.execute_reply": "2022-10-31T15:50:29.111244Z",
     "shell.execute_reply.started": "2022-10-31T15:50:29.087867Z"
    },
    "id": "KDjMrf66jbuz",
    "outputId": "2f3bb517-c638-44ce-db71-7f62335c448d"
   },
   "outputs": [
    {
     "data": {
      "text/html": [
       "<div>\n",
       "<style scoped>\n",
       "    .dataframe tbody tr th:only-of-type {\n",
       "        vertical-align: middle;\n",
       "    }\n",
       "\n",
       "    .dataframe tbody tr th {\n",
       "        vertical-align: top;\n",
       "    }\n",
       "\n",
       "    .dataframe thead th {\n",
       "        text-align: right;\n",
       "    }\n",
       "</style>\n",
       "<table border=\"1\" class=\"dataframe\">\n",
       "  <thead>\n",
       "    <tr style=\"text-align: right;\">\n",
       "      <th></th>\n",
       "      <th>patient id</th>\n",
       "      <th>age</th>\n",
       "      <th>gender</th>\n",
       "      <th>air pollution</th>\n",
       "      <th>alcohol use</th>\n",
       "      <th>dust allergy</th>\n",
       "      <th>occupational hazards</th>\n",
       "      <th>genetic risk</th>\n",
       "      <th>chronic lung disease</th>\n",
       "      <th>balanced diet</th>\n",
       "      <th>...</th>\n",
       "      <th>fatigue</th>\n",
       "      <th>weight loss</th>\n",
       "      <th>shortness of breath</th>\n",
       "      <th>wheezing</th>\n",
       "      <th>swallowing difficulty</th>\n",
       "      <th>clubbing of finger nails</th>\n",
       "      <th>frequent cold</th>\n",
       "      <th>dry cough</th>\n",
       "      <th>snoring</th>\n",
       "      <th>level</th>\n",
       "    </tr>\n",
       "  </thead>\n",
       "  <tbody>\n",
       "    <tr>\n",
       "      <th>1</th>\n",
       "      <td>P1</td>\n",
       "      <td>33</td>\n",
       "      <td>1</td>\n",
       "      <td>2</td>\n",
       "      <td>4</td>\n",
       "      <td>5</td>\n",
       "      <td>4</td>\n",
       "      <td>3</td>\n",
       "      <td>2</td>\n",
       "      <td>2</td>\n",
       "      <td>...</td>\n",
       "      <td>3</td>\n",
       "      <td>4</td>\n",
       "      <td>2</td>\n",
       "      <td>2</td>\n",
       "      <td>3</td>\n",
       "      <td>1</td>\n",
       "      <td>2</td>\n",
       "      <td>3</td>\n",
       "      <td>4</td>\n",
       "      <td>Low</td>\n",
       "    </tr>\n",
       "    <tr>\n",
       "      <th>2</th>\n",
       "      <td>P10</td>\n",
       "      <td>17</td>\n",
       "      <td>1</td>\n",
       "      <td>3</td>\n",
       "      <td>1</td>\n",
       "      <td>5</td>\n",
       "      <td>3</td>\n",
       "      <td>4</td>\n",
       "      <td>2</td>\n",
       "      <td>2</td>\n",
       "      <td>...</td>\n",
       "      <td>1</td>\n",
       "      <td>3</td>\n",
       "      <td>7</td>\n",
       "      <td>8</td>\n",
       "      <td>6</td>\n",
       "      <td>2</td>\n",
       "      <td>1</td>\n",
       "      <td>7</td>\n",
       "      <td>2</td>\n",
       "      <td>Medium</td>\n",
       "    </tr>\n",
       "    <tr>\n",
       "      <th>3</th>\n",
       "      <td>P100</td>\n",
       "      <td>35</td>\n",
       "      <td>1</td>\n",
       "      <td>4</td>\n",
       "      <td>5</td>\n",
       "      <td>6</td>\n",
       "      <td>5</td>\n",
       "      <td>5</td>\n",
       "      <td>4</td>\n",
       "      <td>6</td>\n",
       "      <td>...</td>\n",
       "      <td>8</td>\n",
       "      <td>7</td>\n",
       "      <td>9</td>\n",
       "      <td>2</td>\n",
       "      <td>1</td>\n",
       "      <td>4</td>\n",
       "      <td>6</td>\n",
       "      <td>7</td>\n",
       "      <td>2</td>\n",
       "      <td>High</td>\n",
       "    </tr>\n",
       "    <tr>\n",
       "      <th>4</th>\n",
       "      <td>P1000</td>\n",
       "      <td>37</td>\n",
       "      <td>1</td>\n",
       "      <td>7</td>\n",
       "      <td>7</td>\n",
       "      <td>7</td>\n",
       "      <td>7</td>\n",
       "      <td>6</td>\n",
       "      <td>7</td>\n",
       "      <td>7</td>\n",
       "      <td>...</td>\n",
       "      <td>4</td>\n",
       "      <td>2</td>\n",
       "      <td>3</td>\n",
       "      <td>1</td>\n",
       "      <td>4</td>\n",
       "      <td>5</td>\n",
       "      <td>6</td>\n",
       "      <td>7</td>\n",
       "      <td>5</td>\n",
       "      <td>High</td>\n",
       "    </tr>\n",
       "    <tr>\n",
       "      <th>5</th>\n",
       "      <td>P101</td>\n",
       "      <td>46</td>\n",
       "      <td>1</td>\n",
       "      <td>6</td>\n",
       "      <td>8</td>\n",
       "      <td>7</td>\n",
       "      <td>7</td>\n",
       "      <td>7</td>\n",
       "      <td>6</td>\n",
       "      <td>7</td>\n",
       "      <td>...</td>\n",
       "      <td>3</td>\n",
       "      <td>2</td>\n",
       "      <td>4</td>\n",
       "      <td>1</td>\n",
       "      <td>4</td>\n",
       "      <td>2</td>\n",
       "      <td>4</td>\n",
       "      <td>2</td>\n",
       "      <td>3</td>\n",
       "      <td>High</td>\n",
       "    </tr>\n",
       "  </tbody>\n",
       "</table>\n",
       "<p>5 rows × 25 columns</p>\n",
       "</div>"
      ],
      "text/plain": [
       "0 patient id age gender air pollution alcohol use dust allergy  \\\n",
       "1         P1  33      1             2           4            5   \n",
       "2        P10  17      1             3           1            5   \n",
       "3       P100  35      1             4           5            6   \n",
       "4      P1000  37      1             7           7            7   \n",
       "5       P101  46      1             6           8            7   \n",
       "\n",
       "0 occupational hazards genetic risk chronic lung disease balanced diet  ...  \\\n",
       "1                    4            3                    2             2  ...   \n",
       "2                    3            4                    2             2  ...   \n",
       "3                    5            5                    4             6  ...   \n",
       "4                    7            6                    7             7  ...   \n",
       "5                    7            7                    6             7  ...   \n",
       "\n",
       "0 fatigue weight loss shortness of breath wheezing swallowing difficulty  \\\n",
       "1       3           4                   2        2                     3   \n",
       "2       1           3                   7        8                     6   \n",
       "3       8           7                   9        2                     1   \n",
       "4       4           2                   3        1                     4   \n",
       "5       3           2                   4        1                     4   \n",
       "\n",
       "0 clubbing of finger nails frequent cold dry cough snoring   level  \n",
       "1                        1             2         3       4     Low  \n",
       "2                        2             1         7       2  Medium  \n",
       "3                        4             6         7       2    High  \n",
       "4                        5             6         7       5    High  \n",
       "5                        2             4         2       3    High  \n",
       "\n",
       "[5 rows x 25 columns]"
      ]
     },
     "execution_count": 10,
     "metadata": {},
     "output_type": "execute_result"
    }
   ],
   "source": [
    "df[\"level\"].replace({\"HIGH\": 2, \"MEDIUM\":1,\"LOW\": 0}, inplace = True)\n",
    "df.head()"
   ]
  },
  {
   "cell_type": "code",
   "execution_count": 11,
   "metadata": {
    "execution": {
     "iopub.execute_input": "2022-10-31T15:50:29.113947Z",
     "iopub.status.busy": "2022-10-31T15:50:29.113592Z",
     "iopub.status.idle": "2022-10-31T15:50:29.127291Z",
     "shell.execute_reply": "2022-10-31T15:50:29.126356Z",
     "shell.execute_reply.started": "2022-10-31T15:50:29.113916Z"
    },
    "id": "gIHd5maEkfZ4",
    "outputId": "07280a07-80d4-4286-94f2-08d41f0d1ddd"
   },
   "outputs": [
    {
     "name": "stdout",
     "output_type": "stream",
     "text": [
      "<class 'pandas.core.frame.DataFrame'>\n",
      "RangeIndex: 1000 entries, 1 to 1000\n",
      "Data columns (total 25 columns):\n",
      " #   Column                    Non-Null Count  Dtype \n",
      "---  ------                    --------------  ----- \n",
      " 0   patient id                1000 non-null   object\n",
      " 1   age                       1000 non-null   object\n",
      " 2   gender                    1000 non-null   object\n",
      " 3   air pollution             1000 non-null   object\n",
      " 4   alcohol use               1000 non-null   object\n",
      " 5   dust allergy              1000 non-null   object\n",
      " 6   occupational hazards      1000 non-null   object\n",
      " 7   genetic risk              1000 non-null   object\n",
      " 8   chronic lung disease      1000 non-null   object\n",
      " 9   balanced diet             1000 non-null   object\n",
      " 10  obesity                   1000 non-null   object\n",
      " 11  smoking                   1000 non-null   object\n",
      " 12  passive smoker            1000 non-null   object\n",
      " 13  chest pain                1000 non-null   object\n",
      " 14  coughing of blood         1000 non-null   object\n",
      " 15  fatigue                   1000 non-null   object\n",
      " 16  weight loss               1000 non-null   object\n",
      " 17  shortness of breath       1000 non-null   object\n",
      " 18  wheezing                  1000 non-null   object\n",
      " 19  swallowing difficulty     1000 non-null   object\n",
      " 20  clubbing of finger nails  1000 non-null   object\n",
      " 21  frequent cold             1000 non-null   object\n",
      " 22  dry cough                 1000 non-null   object\n",
      " 23  snoring                   1000 non-null   object\n",
      " 24  level                     1000 non-null   object\n",
      "dtypes: object(25)\n",
      "memory usage: 195.4+ KB\n"
     ]
    }
   ],
   "source": [
    "df.info()"
   ]
  },
  {
   "cell_type": "code",
   "execution_count": 12,
   "metadata": {
    "execution": {
     "iopub.execute_input": "2022-10-31T15:50:29.129447Z",
     "iopub.status.busy": "2022-10-31T15:50:29.128479Z",
     "iopub.status.idle": "2022-10-31T15:50:29.1487Z",
     "shell.execute_reply": "2022-10-31T15:50:29.147267Z",
     "shell.execute_reply.started": "2022-10-31T15:50:29.12941Z"
    },
    "id": "NXaeMoe0kgZ3",
    "outputId": "09f8a128-e054-45fb-e346-44bfa9fb56e5"
   },
   "outputs": [
    {
     "data": {
      "text/plain": [
       "0\n",
       "patient id                  0\n",
       "age                         0\n",
       "gender                      0\n",
       "air pollution               0\n",
       "alcohol use                 0\n",
       "dust allergy                0\n",
       "occupational hazards        0\n",
       "genetic risk                0\n",
       "chronic lung disease        0\n",
       "balanced diet               0\n",
       "obesity                     0\n",
       "smoking                     0\n",
       "passive smoker              0\n",
       "chest pain                  0\n",
       "coughing of blood           0\n",
       "fatigue                     0\n",
       "weight loss                 0\n",
       "shortness of breath         0\n",
       "wheezing                    0\n",
       "swallowing difficulty       0\n",
       "clubbing of finger nails    0\n",
       "frequent cold               0\n",
       "dry cough                   0\n",
       "snoring                     0\n",
       "level                       0\n",
       "dtype: int64"
      ]
     },
     "execution_count": 12,
     "metadata": {},
     "output_type": "execute_result"
    }
   ],
   "source": [
    "df.isna().sum()"
   ]
  },
  {
   "cell_type": "markdown",
   "metadata": {
    "id": "S0zXNpRhRyej"
   },
   "source": [
    "## Visualize our data"
   ]
  },
  {
   "cell_type": "code",
   "execution_count": 13,
   "metadata": {
    "execution": {
     "iopub.execute_input": "2022-10-31T15:50:29.150965Z",
     "iopub.status.busy": "2022-10-31T15:50:29.15038Z",
     "iopub.status.idle": "2022-10-31T15:50:29.167289Z",
     "shell.execute_reply": "2022-10-31T15:50:29.166276Z",
     "shell.execute_reply.started": "2022-10-31T15:50:29.15093Z"
    },
    "id": "N5NacrtlR19s",
    "outputId": "8f21f533-0e54-48c3-8c9b-99d90b1f4c35"
   },
   "outputs": [
    {
     "data": {
      "text/html": [
       "<div>\n",
       "<style scoped>\n",
       "    .dataframe tbody tr th:only-of-type {\n",
       "        vertical-align: middle;\n",
       "    }\n",
       "\n",
       "    .dataframe tbody tr th {\n",
       "        vertical-align: top;\n",
       "    }\n",
       "\n",
       "    .dataframe thead th {\n",
       "        text-align: right;\n",
       "    }\n",
       "</style>\n",
       "<table border=\"1\" class=\"dataframe\">\n",
       "  <thead>\n",
       "    <tr style=\"text-align: right;\">\n",
       "      <th></th>\n",
       "      <th>patient id</th>\n",
       "      <th>age</th>\n",
       "      <th>gender</th>\n",
       "      <th>air pollution</th>\n",
       "      <th>alcohol use</th>\n",
       "      <th>dust allergy</th>\n",
       "      <th>occupational hazards</th>\n",
       "      <th>genetic risk</th>\n",
       "      <th>chronic lung disease</th>\n",
       "      <th>balanced diet</th>\n",
       "      <th>...</th>\n",
       "      <th>fatigue</th>\n",
       "      <th>weight loss</th>\n",
       "      <th>shortness of breath</th>\n",
       "      <th>wheezing</th>\n",
       "      <th>swallowing difficulty</th>\n",
       "      <th>clubbing of finger nails</th>\n",
       "      <th>frequent cold</th>\n",
       "      <th>dry cough</th>\n",
       "      <th>snoring</th>\n",
       "      <th>level</th>\n",
       "    </tr>\n",
       "  </thead>\n",
       "  <tbody>\n",
       "    <tr>\n",
       "      <th>1</th>\n",
       "      <td>P1</td>\n",
       "      <td>33</td>\n",
       "      <td>1</td>\n",
       "      <td>2</td>\n",
       "      <td>4</td>\n",
       "      <td>5</td>\n",
       "      <td>4</td>\n",
       "      <td>3</td>\n",
       "      <td>2</td>\n",
       "      <td>2</td>\n",
       "      <td>...</td>\n",
       "      <td>3</td>\n",
       "      <td>4</td>\n",
       "      <td>2</td>\n",
       "      <td>2</td>\n",
       "      <td>3</td>\n",
       "      <td>1</td>\n",
       "      <td>2</td>\n",
       "      <td>3</td>\n",
       "      <td>4</td>\n",
       "      <td>Low</td>\n",
       "    </tr>\n",
       "    <tr>\n",
       "      <th>2</th>\n",
       "      <td>P10</td>\n",
       "      <td>17</td>\n",
       "      <td>1</td>\n",
       "      <td>3</td>\n",
       "      <td>1</td>\n",
       "      <td>5</td>\n",
       "      <td>3</td>\n",
       "      <td>4</td>\n",
       "      <td>2</td>\n",
       "      <td>2</td>\n",
       "      <td>...</td>\n",
       "      <td>1</td>\n",
       "      <td>3</td>\n",
       "      <td>7</td>\n",
       "      <td>8</td>\n",
       "      <td>6</td>\n",
       "      <td>2</td>\n",
       "      <td>1</td>\n",
       "      <td>7</td>\n",
       "      <td>2</td>\n",
       "      <td>Medium</td>\n",
       "    </tr>\n",
       "    <tr>\n",
       "      <th>3</th>\n",
       "      <td>P100</td>\n",
       "      <td>35</td>\n",
       "      <td>1</td>\n",
       "      <td>4</td>\n",
       "      <td>5</td>\n",
       "      <td>6</td>\n",
       "      <td>5</td>\n",
       "      <td>5</td>\n",
       "      <td>4</td>\n",
       "      <td>6</td>\n",
       "      <td>...</td>\n",
       "      <td>8</td>\n",
       "      <td>7</td>\n",
       "      <td>9</td>\n",
       "      <td>2</td>\n",
       "      <td>1</td>\n",
       "      <td>4</td>\n",
       "      <td>6</td>\n",
       "      <td>7</td>\n",
       "      <td>2</td>\n",
       "      <td>High</td>\n",
       "    </tr>\n",
       "    <tr>\n",
       "      <th>4</th>\n",
       "      <td>P1000</td>\n",
       "      <td>37</td>\n",
       "      <td>1</td>\n",
       "      <td>7</td>\n",
       "      <td>7</td>\n",
       "      <td>7</td>\n",
       "      <td>7</td>\n",
       "      <td>6</td>\n",
       "      <td>7</td>\n",
       "      <td>7</td>\n",
       "      <td>...</td>\n",
       "      <td>4</td>\n",
       "      <td>2</td>\n",
       "      <td>3</td>\n",
       "      <td>1</td>\n",
       "      <td>4</td>\n",
       "      <td>5</td>\n",
       "      <td>6</td>\n",
       "      <td>7</td>\n",
       "      <td>5</td>\n",
       "      <td>High</td>\n",
       "    </tr>\n",
       "    <tr>\n",
       "      <th>5</th>\n",
       "      <td>P101</td>\n",
       "      <td>46</td>\n",
       "      <td>1</td>\n",
       "      <td>6</td>\n",
       "      <td>8</td>\n",
       "      <td>7</td>\n",
       "      <td>7</td>\n",
       "      <td>7</td>\n",
       "      <td>6</td>\n",
       "      <td>7</td>\n",
       "      <td>...</td>\n",
       "      <td>3</td>\n",
       "      <td>2</td>\n",
       "      <td>4</td>\n",
       "      <td>1</td>\n",
       "      <td>4</td>\n",
       "      <td>2</td>\n",
       "      <td>4</td>\n",
       "      <td>2</td>\n",
       "      <td>3</td>\n",
       "      <td>High</td>\n",
       "    </tr>\n",
       "  </tbody>\n",
       "</table>\n",
       "<p>5 rows × 25 columns</p>\n",
       "</div>"
      ],
      "text/plain": [
       "0 patient id age gender air pollution alcohol use dust allergy  \\\n",
       "1         P1  33      1             2           4            5   \n",
       "2        P10  17      1             3           1            5   \n",
       "3       P100  35      1             4           5            6   \n",
       "4      P1000  37      1             7           7            7   \n",
       "5       P101  46      1             6           8            7   \n",
       "\n",
       "0 occupational hazards genetic risk chronic lung disease balanced diet  ...  \\\n",
       "1                    4            3                    2             2  ...   \n",
       "2                    3            4                    2             2  ...   \n",
       "3                    5            5                    4             6  ...   \n",
       "4                    7            6                    7             7  ...   \n",
       "5                    7            7                    6             7  ...   \n",
       "\n",
       "0 fatigue weight loss shortness of breath wheezing swallowing difficulty  \\\n",
       "1       3           4                   2        2                     3   \n",
       "2       1           3                   7        8                     6   \n",
       "3       8           7                   9        2                     1   \n",
       "4       4           2                   3        1                     4   \n",
       "5       3           2                   4        1                     4   \n",
       "\n",
       "0 clubbing of finger nails frequent cold dry cough snoring   level  \n",
       "1                        1             2         3       4     Low  \n",
       "2                        2             1         7       2  Medium  \n",
       "3                        4             6         7       2    High  \n",
       "4                        5             6         7       5    High  \n",
       "5                        2             4         2       3    High  \n",
       "\n",
       "[5 rows x 25 columns]"
      ]
     },
     "execution_count": 13,
     "metadata": {},
     "output_type": "execute_result"
    }
   ],
   "source": [
    "df.head()"
   ]
  },
  {
   "cell_type": "code",
   "execution_count": 14,
   "metadata": {
    "execution": {
     "iopub.execute_input": "2022-10-31T15:50:29.169622Z",
     "iopub.status.busy": "2022-10-31T15:50:29.168717Z",
     "iopub.status.idle": "2022-10-31T15:50:29.46203Z",
     "shell.execute_reply": "2022-10-31T15:50:29.459851Z",
     "shell.execute_reply.started": "2022-10-31T15:50:29.169584Z"
    },
    "id": "ZZ9CUpnAR25N",
    "outputId": "b3b1f6f8-dccd-482e-ae85-c8b15544540c"
   },
   "outputs": [
    {
     "name": "stderr",
     "output_type": "stream",
     "text": [
      "C:\\Users\\david\\AppData\\Local\\Temp/ipykernel_15400/3582051154.py:1: UserWarning: \n",
      "\n",
      "`distplot` is a deprecated function and will be removed in seaborn v0.14.0.\n",
      "\n",
      "Please adapt your code to use either `displot` (a figure-level function with\n",
      "similar flexibility) or `histplot` (an axes-level function for histograms).\n",
      "\n",
      "For a guide to updating your code to use the new functions, please see\n",
      "https://gist.github.com/mwaskom/de44147ed2974457ad6372750bbe5751\n",
      "\n",
      "  sns.distplot(df[\"age\"], color = \"green\");\n"
     ]
    },
    {
     "data": {
      "image/png": "[encoded data removed]",
      "text/plain": [
       "<Figure size 432x288 with 1 Axes>"
      ]
     },
     "metadata": {
      "needs_background": "light"
     },
     "output_type": "display_data"
    }
   ],
   "source": [
    "sns.distplot(df[\"age\"], color = \"green\");"
   ]
  },
  {
   "cell_type": "code",
   "execution_count": 15,
   "metadata": {},
   "outputs": [
    {
     "data": {
      "text/plain": [
       "<AxesSubplot:xlabel='level', ylabel='count'>"
      ]
     },
     "execution_count": 15,
     "metadata": {},
     "output_type": "execute_result"
    },
    {
     "data": {
      "image/png": "[encoded data removed]",
      "text/plain": [
       "<Figure size 432x288 with 1 Axes>"
      ]
     },
     "metadata": {
      "needs_background": "light"
     },
     "output_type": "display_data"
    }
   ],
   "source": [
    "fig, ax=plt.subplots()#Required outside of function. This needs to be activated first when plotting in every code block\n",
    "plot=sns.countplot(data=df, x='level', palette=['darkblue','darkred','darkgreen'])#Count plot\n",
    "Plotter(plot, 'Level', 'Count', legend=None, save=True, save_name='Level Count.png')#Plotter function for aesthetics\n",
    "plot"
   ]
  },
  {
   "cell_type": "code",
   "execution_count": 16,
   "metadata": {},
   "outputs": [
    {
     "data": {
      "text/plain": [
       "<AxesSubplot:xlabel='level', ylabel='count'>"
      ]
     },
     "execution_count": 16,
     "metadata": {},
     "output_type": "execute_result"
    },
    {
     "data": {
      "image/png": "[encoded data removed]",
      "text/plain": [
       "<Figure size 432x288 with 1 Axes>"
      ]
     },
     "metadata": {
      "needs_background": "light"
     },
     "output_type": "display_data"
    }
   ],
   "source": [
    "fig, ax=plt.subplots()#Required outside of function. This needs to be activated first when plotting in every code block\n",
    "plot=sns.countplot(data=df, x='level', hue='gender', palette=['darkblue','darkred'])#Count plot\n",
    "#Plotter(plot, 'Level', 'Count', legend=True, save=True, save_name='Level Count by Gender.png')#Plotter function for aesthetics\n",
    "plot"
   ]
  },
  {
   "cell_type": "code",
   "execution_count": null,
   "metadata": {},
   "outputs": [],
   "source": [
    "fig, ax=plt.subplots()#Required outside of function. This needs to be activated first when plotting in every code block\n",
    "plot=sns.boxplot(data=cancer, x='Level', y='Age', palette=['darkblue','darkred','darkgreen'])#Count plot\n",
    "Plotter(plot, 'Level', 'Age', legend=False, save=True, save_name='Level by Age.png')#Plotter function for aesthetics\n",
    "plot"
   ]
  },
  {
   "cell_type": "code",
   "execution_count": 19,
   "metadata": {
    "execution": {
     "iopub.execute_input": "2022-10-31T15:50:29.585913Z",
     "iopub.status.busy": "2022-10-31T15:50:29.584825Z",
     "iopub.status.idle": "2022-10-31T15:50:29.839677Z",
     "shell.execute_reply": "2022-10-31T15:50:29.838285Z",
     "shell.execute_reply.started": "2022-10-31T15:50:29.585864Z"
    },
    "id": "ef_krM4yTWb-",
    "outputId": "0d7aff12-5141-4c01-bfd4-74519368af51"
   },
   "outputs": [
    {
     "name": "stderr",
     "output_type": "stream",
     "text": [
      "C:\\Users\\david\\AppData\\Local\\Temp/ipykernel_15400/3252328023.py:1: UserWarning: \n",
      "\n",
      "`distplot` is a deprecated function and will be removed in seaborn v0.14.0.\n",
      "\n",
      "Please adapt your code to use either `displot` (a figure-level function with\n",
      "similar flexibility) or `histplot` (an axes-level function for histograms).\n",
      "\n",
      "For a guide to updating your code to use the new functions, please see\n",
      "https://gist.github.com/mwaskom/de44147ed2974457ad6372750bbe5751\n",
      "\n",
      "  sns.distplot(df[\"dust allergy\"], color = \"blue\");\n"
     ]
    },
    {
     "data": {
      "image/png": "[encoded data removed]",
      "text/plain": [
       "<Figure size 432x288 with 1 Axes>"
      ]
     },
     "metadata": {
      "needs_background": "light"
     },
     "output_type": "display_data"
    }
   ],
   "source": [
    "sns.distplot(df[\"dust allergy\"], color = \"blue\");"
   ]
  },
  {
   "cell_type": "code",
   "execution_count": 20,
   "metadata": {
    "execution": {
     "iopub.execute_input": "2022-10-31T15:50:29.842443Z",
     "iopub.status.busy": "2022-10-31T15:50:29.841914Z",
     "iopub.status.idle": "2022-10-31T15:50:30.097844Z",
     "shell.execute_reply": "2022-10-31T15:50:30.09645Z",
     "shell.execute_reply.started": "2022-10-31T15:50:29.842381Z"
    },
    "id": "rzBNIdoWUObe",
    "outputId": "5983ec16-8a18-4285-b489-7b41a3804169"
   },
   "outputs": [
    {
     "name": "stderr",
     "output_type": "stream",
     "text": [
      "C:\\Users\\david\\AppData\\Local\\Temp/ipykernel_15400/939379550.py:1: UserWarning: \n",
      "\n",
      "`distplot` is a deprecated function and will be removed in seaborn v0.14.0.\n",
      "\n",
      "Please adapt your code to use either `displot` (a figure-level function with\n",
      "similar flexibility) or `histplot` (an axes-level function for histograms).\n",
      "\n",
      "For a guide to updating your code to use the new functions, please see\n",
      "https://gist.github.com/mwaskom/de44147ed2974457ad6372750bbe5751\n",
      "\n",
      "  sns.distplot(df[\"alcohol use\"], color = \"red\");\n"
     ]
    },
    {
     "data": {
      "image/png": "[encoded data removed]",
      "text/plain": [
       "<Figure size 432x288 with 1 Axes>"
      ]
     },
     "metadata": {
      "needs_background": "light"
     },
     "output_type": "display_data"
    }
   ],
   "source": [
    "sns.distplot(df[\"alcohol use\"], color = \"red\");"
   ]
  },
  {
   "cell_type": "code",
   "execution_count": 21,
   "metadata": {
    "execution": {
     "iopub.execute_input": "2022-10-31T15:50:30.100292Z",
     "iopub.status.busy": "2022-10-31T15:50:30.09948Z",
     "iopub.status.idle": "2022-10-31T15:50:30.354087Z",
     "shell.execute_reply": "2022-10-31T15:50:30.353286Z",
     "shell.execute_reply.started": "2022-10-31T15:50:30.100251Z"
    },
    "id": "DcAPsRG0U8RD",
    "outputId": "06b073d2-57ef-4538-85b3-900bc2898e8b"
   },
   "outputs": [
    {
     "name": "stderr",
     "output_type": "stream",
     "text": [
      "C:\\Users\\david\\AppData\\Local\\Temp/ipykernel_15400/4090839962.py:1: UserWarning: \n",
      "\n",
      "`distplot` is a deprecated function and will be removed in seaborn v0.14.0.\n",
      "\n",
      "Please adapt your code to use either `displot` (a figure-level function with\n",
      "similar flexibility) or `histplot` (an axes-level function for histograms).\n",
      "\n",
      "For a guide to updating your code to use the new functions, please see\n",
      "https://gist.github.com/mwaskom/de44147ed2974457ad6372750bbe5751\n",
      "\n",
      "  sns.distplot(df[\"smoking\"], color = \"indigo\");\n"
     ]
    },
    {
     "data": {
      "image/png": "[encoded data removed]",
      "text/plain": [
       "<Figure size 432x288 with 1 Axes>"
      ]
     },
     "metadata": {
      "needs_background": "light"
     },
     "output_type": "display_data"
    }
   ],
   "source": [
    "sns.distplot(df[\"smoking\"], color = \"indigo\");"
   ]
  },
  {
   "cell_type": "code",
   "execution_count": 22,
   "metadata": {
    "execution": {
     "iopub.execute_input": "2022-10-31T15:50:30.356607Z",
     "iopub.status.busy": "2022-10-31T15:50:30.355373Z",
     "iopub.status.idle": "2022-10-31T15:50:30.608579Z",
     "shell.execute_reply": "2022-10-31T15:50:30.607473Z",
     "shell.execute_reply.started": "2022-10-31T15:50:30.356532Z"
    },
    "id": "vEvANw7uUaYI",
    "outputId": "d8876d6d-9d93-4cb7-cece-ef7f347c9fda"
   },
   "outputs": [
    {
     "name": "stderr",
     "output_type": "stream",
     "text": [
      "C:\\Users\\david\\AppData\\Local\\Temp/ipykernel_15400/501919017.py:1: UserWarning: \n",
      "\n",
      "`distplot` is a deprecated function and will be removed in seaborn v0.14.0.\n",
      "\n",
      "Please adapt your code to use either `displot` (a figure-level function with\n",
      "similar flexibility) or `histplot` (an axes-level function for histograms).\n",
      "\n",
      "For a guide to updating your code to use the new functions, please see\n",
      "https://gist.github.com/mwaskom/de44147ed2974457ad6372750bbe5751\n",
      "\n",
      "  sns.distplot(df[\"shortness of breath\"], color = \"purple\");\n"
     ]
    },
    {
     "data": {
      "image/png": "[encoded data removed]",
      "text/plain": [
       "<Figure size 432x288 with 1 Axes>"
      ]
     },
     "metadata": {
      "needs_background": "light"
     },
     "output_type": "display_data"
    }
   ],
   "source": [
    "sns.distplot(df[\"shortness of breath\"], color = \"purple\");"
   ]
  },
  {
   "cell_type": "code",
   "execution_count": 23,
   "metadata": {
    "execution": {
     "iopub.execute_input": "2022-10-31T15:50:30.610966Z",
     "iopub.status.busy": "2022-10-31T15:50:30.610331Z",
     "iopub.status.idle": "2022-10-31T15:50:30.860639Z",
     "shell.execute_reply": "2022-10-31T15:50:30.8594Z",
     "shell.execute_reply.started": "2022-10-31T15:50:30.610929Z"
    },
    "id": "6LbQYkcJUuvP",
    "outputId": "75b8ad7f-b3c1-4be5-97eb-c6a0d721da34"
   },
   "outputs": [
    {
     "name": "stderr",
     "output_type": "stream",
     "text": [
      "C:\\Users\\david\\AppData\\Local\\Temp/ipykernel_15400/2004764693.py:1: UserWarning: \n",
      "\n",
      "`distplot` is a deprecated function and will be removed in seaborn v0.14.0.\n",
      "\n",
      "Please adapt your code to use either `displot` (a figure-level function with\n",
      "similar flexibility) or `histplot` (an axes-level function for histograms).\n",
      "\n",
      "For a guide to updating your code to use the new functions, please see\n",
      "https://gist.github.com/mwaskom/de44147ed2974457ad6372750bbe5751\n",
      "\n",
      "  sns.distplot(df[\"chest pain\"], color = \"maroon\");\n"
     ]
    },
    {
     "data": {
      "image/png": "[encoded data removed]",
      "text/plain": [
       "<Figure size 432x288 with 1 Axes>"
      ]
     },
     "metadata": {
      "needs_background": "light"
     },
     "output_type": "display_data"
    }
   ],
   "source": [
    "sns.distplot(df[\"chest pain\"], color = \"maroon\");"
   ]
  },
  {
   "cell_type": "code",
   "execution_count": 1,
   "metadata": {},
   "outputs": [
    {
     "ename": "NameError",
     "evalue": "name 'plt' is not defined",
     "output_type": "error",
     "traceback": [
      "\u001b[1;31m---------------------------------------------------------------------------\u001b[0m",
      "\u001b[1;31mNameError\u001b[0m                                 Traceback (most recent call last)",
      "\u001b[1;32m~\\AppData\\Local\\Temp/ipykernel_9396/2480586197.py\u001b[0m in \u001b[0;36m<module>\u001b[1;34m\u001b[0m\n\u001b[1;32m----> 1\u001b[1;33m \u001b[0mfig\u001b[0m\u001b[1;33m,\u001b[0m \u001b[0max\u001b[0m\u001b[1;33m=\u001b[0m\u001b[0mplt\u001b[0m\u001b[1;33m.\u001b[0m\u001b[0msubplots\u001b[0m\u001b[1;33m(\u001b[0m\u001b[1;33m)\u001b[0m\u001b[1;31m#Required outside of function. This needs to be activated first when plotting in every code block\u001b[0m\u001b[1;33m\u001b[0m\u001b[1;33m\u001b[0m\u001b[0m\n\u001b[0m\u001b[0;32m      2\u001b[0m \u001b[0mplot\u001b[0m\u001b[1;33m=\u001b[0m\u001b[0msns\u001b[0m\u001b[1;33m.\u001b[0m\u001b[0mscatterplot\u001b[0m\u001b[1;33m(\u001b[0m\u001b[0mdata\u001b[0m\u001b[1;33m=\u001b[0m\u001b[0mcancer\u001b[0m\u001b[1;33m,\u001b[0m \u001b[0mx\u001b[0m\u001b[1;33m=\u001b[0m\u001b[1;34m'Alcohol use'\u001b[0m\u001b[1;33m,\u001b[0m\u001b[0my\u001b[0m\u001b[1;33m=\u001b[0m\u001b[1;34m'Fatigue'\u001b[0m\u001b[1;33m,\u001b[0m \u001b[0mhue\u001b[0m\u001b[1;33m=\u001b[0m\u001b[1;34m'Level'\u001b[0m\u001b[1;33m,\u001b[0m \u001b[0mpalette\u001b[0m\u001b[1;33m=\u001b[0m\u001b[1;33m[\u001b[0m\u001b[1;34m'darkblue'\u001b[0m\u001b[1;33m,\u001b[0m\u001b[1;34m'darkred'\u001b[0m\u001b[1;33m,\u001b[0m\u001b[1;34m'darkgreen'\u001b[0m\u001b[1;33m]\u001b[0m\u001b[1;33m,\u001b[0m \u001b[0ms\u001b[0m\u001b[1;33m=\u001b[0m\u001b[1;36m50\u001b[0m\u001b[1;33m,\u001b[0m \u001b[0mmarker\u001b[0m\u001b[1;33m=\u001b[0m\u001b[1;34m'o'\u001b[0m\u001b[1;33m)\u001b[0m\u001b[1;31m#Count plot\u001b[0m\u001b[1;33m\u001b[0m\u001b[1;33m\u001b[0m\u001b[0m\n\u001b[0;32m      3\u001b[0m \u001b[0mPlotter\u001b[0m\u001b[1;33m(\u001b[0m\u001b[0mplot\u001b[0m\u001b[1;33m,\u001b[0m \u001b[1;34m'Alcohol use'\u001b[0m\u001b[1;33m,\u001b[0m \u001b[1;34m'Fatique'\u001b[0m\u001b[1;33m,\u001b[0m \u001b[0mlegend\u001b[0m\u001b[1;33m=\u001b[0m\u001b[1;32mTrue\u001b[0m\u001b[1;33m,\u001b[0m \u001b[0msave\u001b[0m\u001b[1;33m=\u001b[0m\u001b[1;32mTrue\u001b[0m\u001b[1;33m,\u001b[0m \u001b[0msave_name\u001b[0m\u001b[1;33m=\u001b[0m\u001b[1;34m'Level Dependence on Alcohol and Fatigue.png'\u001b[0m\u001b[1;33m)\u001b[0m\u001b[1;31m#Plotter function for aesthetics\u001b[0m\u001b[1;33m\u001b[0m\u001b[1;33m\u001b[0m\u001b[0m\n\u001b[0;32m      4\u001b[0m \u001b[0mplot\u001b[0m\u001b[1;33m\u001b[0m\u001b[1;33m\u001b[0m\u001b[0m\n",
      "\u001b[1;31mNameError\u001b[0m: name 'plt' is not defined"
     ]
    }
   ],
   "source": [
    "fig, ax=plt.subplots()#Required outside of function. This needs to be activated first when plotting in every code block\n",
    "plot=sns.scatterplot(data=cancer, x='Alcohol use',y='Fatigue', hue='Level', palette=['darkblue','darkred','darkgreen'], s=50, marker='o')#Count plot\n",
    "Plotter(plot, 'Alcohol use', 'Fatique', legend=True, save=True, save_name='Level Dependence on Alcohol and Fatigue.png')#Plotter function for aesthetics\n",
    "plot"
   ]
  },
  {
   "cell_type": "code",
   "execution_count": 26,
   "metadata": {},
   "outputs": [],
   "source": [
    "from sklearn.feature_selection import SelectKBest #Feature Selector\n",
    "from sklearn.feature_selection import f_classif #F-ratio statistic for categorical values"
   ]
  },
  {
   "cell_type": "code",
   "execution_count": 27,
   "metadata": {},
   "outputs": [
    {
     "data": {
      "text/plain": [
       "<AxesSubplot:xlabel='Score', ylabel='Feature'>"
      ]
     },
     "execution_count": 27,
     "metadata": {},
     "output_type": "execute_result"
    },
    {
     "data": {
      "image/png": "[encoded data removed]",
      "text/plain": [
       "<Figure size 504x504 with 1 Axes>"
      ]
     },
     "metadata": {
      "needs_background": "light"
     },
     "output_type": "display_data"
    }
   ],
   "source": [
    "#Feature Selection\n",
    "X=df.drop(['level','patient id'], axis=1)\n",
    "Y=df['level']\n",
    "bestfeatures = SelectKBest(score_func=f_classif, k='all')\n",
    "fit = bestfeatures.fit(X,Y)\n",
    "dfscores = pd.DataFrame(fit.scores_)\n",
    "dfcolumns = pd.DataFrame(X.columns)\n",
    "#concat two dataframes for better visualization \n",
    "featureScores = pd.concat([dfcolumns,dfscores],axis=1)\n",
    "featureScores.columns = ['Feature','Score']  #naming the dataframe columns\n",
    "\n",
    "#Visualize the feature scores\n",
    "fig, ax=plt.subplots(figsize=(7,7))\n",
    "plot=sns.barplot(data=featureScores, x='Score', y='Feature', palette='viridis',linewidth=0.5, saturation=2, orient='h')\n",
    "#Plotter(plot, 'Score', 'Feature', legend=False, save=True, save_name='Feature Importance.png')#Plotter function for aesthetics\n",
    "plot"
   ]
  },
  {
   "cell_type": "code",
   "execution_count": 28,
   "metadata": {},
   "outputs": [
    {
     "data": {
      "text/html": [
       "<div>\n",
       "<style scoped>\n",
       "    .dataframe tbody tr th:only-of-type {\n",
       "        vertical-align: middle;\n",
       "    }\n",
       "\n",
       "    .dataframe tbody tr th {\n",
       "        vertical-align: top;\n",
       "    }\n",
       "\n",
       "    .dataframe thead th {\n",
       "        text-align: right;\n",
       "    }\n",
       "</style>\n",
       "<table border=\"1\" class=\"dataframe\">\n",
       "  <thead>\n",
       "    <tr style=\"text-align: right;\">\n",
       "      <th></th>\n",
       "      <th>air pollution</th>\n",
       "      <th>alcohol use</th>\n",
       "      <th>dust allergy</th>\n",
       "      <th>occupational hazards</th>\n",
       "      <th>genetic risk</th>\n",
       "      <th>chronic lung disease</th>\n",
       "      <th>balanced diet</th>\n",
       "      <th>obesity</th>\n",
       "      <th>smoking</th>\n",
       "      <th>passive smoker</th>\n",
       "      <th>chest pain</th>\n",
       "      <th>coughing of blood</th>\n",
       "      <th>fatigue</th>\n",
       "      <th>level</th>\n",
       "    </tr>\n",
       "  </thead>\n",
       "  <tbody>\n",
       "    <tr>\n",
       "      <th>1</th>\n",
       "      <td>2</td>\n",
       "      <td>4</td>\n",
       "      <td>5</td>\n",
       "      <td>4</td>\n",
       "      <td>3</td>\n",
       "      <td>2</td>\n",
       "      <td>2</td>\n",
       "      <td>4</td>\n",
       "      <td>3</td>\n",
       "      <td>2</td>\n",
       "      <td>2</td>\n",
       "      <td>4</td>\n",
       "      <td>3</td>\n",
       "      <td>Low</td>\n",
       "    </tr>\n",
       "    <tr>\n",
       "      <th>2</th>\n",
       "      <td>3</td>\n",
       "      <td>1</td>\n",
       "      <td>5</td>\n",
       "      <td>3</td>\n",
       "      <td>4</td>\n",
       "      <td>2</td>\n",
       "      <td>2</td>\n",
       "      <td>2</td>\n",
       "      <td>2</td>\n",
       "      <td>4</td>\n",
       "      <td>2</td>\n",
       "      <td>3</td>\n",
       "      <td>1</td>\n",
       "      <td>Medium</td>\n",
       "    </tr>\n",
       "    <tr>\n",
       "      <th>3</th>\n",
       "      <td>4</td>\n",
       "      <td>5</td>\n",
       "      <td>6</td>\n",
       "      <td>5</td>\n",
       "      <td>5</td>\n",
       "      <td>4</td>\n",
       "      <td>6</td>\n",
       "      <td>7</td>\n",
       "      <td>2</td>\n",
       "      <td>3</td>\n",
       "      <td>4</td>\n",
       "      <td>8</td>\n",
       "      <td>8</td>\n",
       "      <td>High</td>\n",
       "    </tr>\n",
       "    <tr>\n",
       "      <th>4</th>\n",
       "      <td>7</td>\n",
       "      <td>7</td>\n",
       "      <td>7</td>\n",
       "      <td>7</td>\n",
       "      <td>6</td>\n",
       "      <td>7</td>\n",
       "      <td>7</td>\n",
       "      <td>7</td>\n",
       "      <td>7</td>\n",
       "      <td>7</td>\n",
       "      <td>7</td>\n",
       "      <td>8</td>\n",
       "      <td>4</td>\n",
       "      <td>High</td>\n",
       "    </tr>\n",
       "    <tr>\n",
       "      <th>5</th>\n",
       "      <td>6</td>\n",
       "      <td>8</td>\n",
       "      <td>7</td>\n",
       "      <td>7</td>\n",
       "      <td>7</td>\n",
       "      <td>6</td>\n",
       "      <td>7</td>\n",
       "      <td>7</td>\n",
       "      <td>8</td>\n",
       "      <td>7</td>\n",
       "      <td>7</td>\n",
       "      <td>9</td>\n",
       "      <td>3</td>\n",
       "      <td>High</td>\n",
       "    </tr>\n",
       "  </tbody>\n",
       "</table>\n",
       "</div>"
      ],
      "text/plain": [
       "0 air pollution alcohol use dust allergy occupational hazards genetic risk  \\\n",
       "1             2           4            5                    4            3   \n",
       "2             3           1            5                    3            4   \n",
       "3             4           5            6                    5            5   \n",
       "4             7           7            7                    7            6   \n",
       "5             6           8            7                    7            7   \n",
       "\n",
       "0 chronic lung disease balanced diet obesity smoking passive smoker  \\\n",
       "1                    2             2       4       3              2   \n",
       "2                    2             2       2       2              4   \n",
       "3                    4             6       7       2              3   \n",
       "4                    7             7       7       7              7   \n",
       "5                    6             7       7       8              7   \n",
       "\n",
       "0 chest pain coughing of blood fatigue   level  \n",
       "1          2                 4       3     Low  \n",
       "2          2                 3       1  Medium  \n",
       "3          4                 8       8    High  \n",
       "4          7                 8       4    High  \n",
       "5          7                 9       3    High  "
      ]
     },
     "execution_count": 28,
     "metadata": {},
     "output_type": "execute_result"
    }
   ],
   "source": [
    "#Selection method\n",
    "selection=featureScores[featureScores['Score']>=200]#Selects features that scored more than 200\n",
    "selection=list(selection['Feature'])#Generates the features into a list\n",
    "selection.append('level')#Adding the Level string to be used to make new data frame\n",
    "new_df=df[selection] #New dataframe with selected features\n",
    "new_df.head() #Lets take a look at the first 5"
   ]
  },
  {
   "cell_type": "markdown",
   "metadata": {
    "id": "ZQUJ8fXHc4g0"
   },
   "source": [
    "## Fit and instantiate model"
   ]
  },
  {
   "cell_type": "markdown",
   "metadata": {
    "id": "FqAji9bjmAKk"
   },
   "source": [
    "#### Test 2 models"
   ]
  },
  {
   "cell_type": "code",
   "execution_count": 29,
   "metadata": {
    "execution": {
     "iopub.execute_input": "2022-10-31T15:51:29.643344Z",
     "iopub.status.busy": "2022-10-31T15:51:29.642928Z",
     "iopub.status.idle": "2022-10-31T15:51:29.650329Z",
     "shell.execute_reply": "2022-10-31T15:51:29.649255Z",
     "shell.execute_reply.started": "2022-10-31T15:51:29.643311Z"
    },
    "id": "0TjkJ8cPfp7D"
   },
   "outputs": [],
   "source": [
    "def evaluate(models, X_train, X_test, y_train, y_test):\n",
    "    np.random.seed(42)\n",
    "    model_scores = {}\n",
    "\n",
    "    for name, model in models.items():\n",
    "        model.fit(X_train, y_train)\n",
    "        model_scores[name] = model.score(X_test, y_test)\n",
    "\n",
    "    return model_scores"
   ]
  },
  {
   "cell_type": "code",
   "execution_count": 30,
   "metadata": {
    "execution": {
     "iopub.execute_input": "2022-10-31T15:50:30.979386Z",
     "iopub.status.busy": "2022-10-31T15:50:30.978786Z",
     "iopub.status.idle": "2022-10-31T15:50:31.01387Z",
     "shell.execute_reply": "2022-10-31T15:50:31.012723Z",
     "shell.execute_reply.started": "2022-10-31T15:50:30.979251Z"
    },
    "id": "b8RjKFUIgra1",
    "outputId": "d82f2559-330e-4906-f5ae-97cfc5c30b74"
   },
   "outputs": [
    {
     "data": {
      "text/html": [
       "<div>\n",
       "<style scoped>\n",
       "    .dataframe tbody tr th:only-of-type {\n",
       "        vertical-align: middle;\n",
       "    }\n",
       "\n",
       "    .dataframe tbody tr th {\n",
       "        vertical-align: top;\n",
       "    }\n",
       "\n",
       "    .dataframe thead th {\n",
       "        text-align: right;\n",
       "    }\n",
       "</style>\n",
       "<table border=\"1\" class=\"dataframe\">\n",
       "  <thead>\n",
       "    <tr style=\"text-align: right;\">\n",
       "      <th></th>\n",
       "      <th>air pollution</th>\n",
       "      <th>alcohol use</th>\n",
       "      <th>dust allergy</th>\n",
       "      <th>occupational hazards</th>\n",
       "      <th>genetic risk</th>\n",
       "      <th>chronic lung disease</th>\n",
       "      <th>balanced diet</th>\n",
       "      <th>obesity</th>\n",
       "      <th>smoking</th>\n",
       "      <th>passive smoker</th>\n",
       "      <th>chest pain</th>\n",
       "      <th>coughing of blood</th>\n",
       "      <th>fatigue</th>\n",
       "    </tr>\n",
       "  </thead>\n",
       "  <tbody>\n",
       "    <tr>\n",
       "      <th>0</th>\n",
       "      <td>-0.906679</td>\n",
       "      <td>-0.214954</td>\n",
       "      <td>-0.083340</td>\n",
       "      <td>-0.398718</td>\n",
       "      <td>-0.743202</td>\n",
       "      <td>-1.288162</td>\n",
       "      <td>-1.167040</td>\n",
       "      <td>-0.218941</td>\n",
       "      <td>-0.380013</td>\n",
       "      <td>-0.949961</td>\n",
       "      <td>-1.069735</td>\n",
       "      <td>-0.353971</td>\n",
       "      <td>-0.381548</td>\n",
       "    </tr>\n",
       "    <tr>\n",
       "      <th>1</th>\n",
       "      <td>-0.413919</td>\n",
       "      <td>-1.360357</td>\n",
       "      <td>-0.083340</td>\n",
       "      <td>-0.873383</td>\n",
       "      <td>-0.272821</td>\n",
       "      <td>-1.288162</td>\n",
       "      <td>-1.167040</td>\n",
       "      <td>-1.160623</td>\n",
       "      <td>-0.780870</td>\n",
       "      <td>-0.084393</td>\n",
       "      <td>-1.069735</td>\n",
       "      <td>-0.766045</td>\n",
       "      <td>-1.273014</td>\n",
       "    </tr>\n",
       "    <tr>\n",
       "      <th>2</th>\n",
       "      <td>0.078842</td>\n",
       "      <td>0.166847</td>\n",
       "      <td>0.421751</td>\n",
       "      <td>0.075946</td>\n",
       "      <td>0.197560</td>\n",
       "      <td>-0.205673</td>\n",
       "      <td>0.706970</td>\n",
       "      <td>1.193582</td>\n",
       "      <td>-0.780870</td>\n",
       "      <td>-0.517177</td>\n",
       "      <td>-0.192184</td>\n",
       "      <td>1.294323</td>\n",
       "      <td>1.847119</td>\n",
       "    </tr>\n",
       "    <tr>\n",
       "      <th>3</th>\n",
       "      <td>1.557123</td>\n",
       "      <td>0.930449</td>\n",
       "      <td>0.926842</td>\n",
       "      <td>1.025275</td>\n",
       "      <td>0.667941</td>\n",
       "      <td>1.418061</td>\n",
       "      <td>1.175473</td>\n",
       "      <td>1.193582</td>\n",
       "      <td>1.223416</td>\n",
       "      <td>1.213959</td>\n",
       "      <td>1.124143</td>\n",
       "      <td>1.294323</td>\n",
       "      <td>0.064186</td>\n",
       "    </tr>\n",
       "    <tr>\n",
       "      <th>4</th>\n",
       "      <td>1.064362</td>\n",
       "      <td>1.312250</td>\n",
       "      <td>0.926842</td>\n",
       "      <td>1.025275</td>\n",
       "      <td>1.138323</td>\n",
       "      <td>0.876816</td>\n",
       "      <td>1.175473</td>\n",
       "      <td>1.193582</td>\n",
       "      <td>1.624274</td>\n",
       "      <td>1.213959</td>\n",
       "      <td>1.124143</td>\n",
       "      <td>1.706397</td>\n",
       "      <td>-0.381548</td>\n",
       "    </tr>\n",
       "  </tbody>\n",
       "</table>\n",
       "</div>"
      ],
      "text/plain": [
       "0  air pollution  alcohol use  dust allergy  occupational hazards  \\\n",
       "0      -0.906679    -0.214954     -0.083340             -0.398718   \n",
       "1      -0.413919    -1.360357     -0.083340             -0.873383   \n",
       "2       0.078842     0.166847      0.421751              0.075946   \n",
       "3       1.557123     0.930449      0.926842              1.025275   \n",
       "4       1.064362     1.312250      0.926842              1.025275   \n",
       "\n",
       "0  genetic risk  chronic lung disease  balanced diet   obesity   smoking  \\\n",
       "0     -0.743202             -1.288162      -1.167040 -0.218941 -0.380013   \n",
       "1     -0.272821             -1.288162      -1.167040 -1.160623 -0.780870   \n",
       "2      0.197560             -0.205673       0.706970  1.193582 -0.780870   \n",
       "3      0.667941              1.418061       1.175473  1.193582  1.223416   \n",
       "4      1.138323              0.876816       1.175473  1.193582  1.624274   \n",
       "\n",
       "0  passive smoker  chest pain  coughing of blood   fatigue  \n",
       "0       -0.949961   -1.069735          -0.353971 -0.381548  \n",
       "1       -0.084393   -1.069735          -0.766045 -1.273014  \n",
       "2       -0.517177   -0.192184           1.294323  1.847119  \n",
       "3        1.213959    1.124143           1.294323  0.064186  \n",
       "4        1.213959    1.124143           1.706397 -0.381548  "
      ]
     },
     "execution_count": 30,
     "metadata": {},
     "output_type": "execute_result"
    }
   ],
   "source": [
    "scaler = StandardScaler()\n",
    "\n",
    "X = new_df.drop(\"level\", axis = 1)\n",
    "y = new_df[\"level\"]\n",
    "\n",
    "df = pd.DataFrame(scaler.fit_transform(X), columns = X.columns)\n",
    "df.head()"
   ]
  },
  {
   "cell_type": "code",
   "execution_count": 31,
   "metadata": {
    "execution": {
     "iopub.execute_input": "2022-10-31T15:50:31.015499Z",
     "iopub.status.busy": "2022-10-31T15:50:31.015138Z",
     "iopub.status.idle": "2022-10-31T15:50:31.024157Z",
     "shell.execute_reply": "2022-10-31T15:50:31.022939Z",
     "shell.execute_reply.started": "2022-10-31T15:50:31.015468Z"
    },
    "id": "LCnxnYsikpEa"
   },
   "outputs": [],
   "source": [
    "X_train, X_test, y_train, y_test = train_test_split(X, y, test_size = 0.2, random_state = 42)"
   ]
  },
  {
   "cell_type": "code",
   "execution_count": 32,
   "metadata": {
    "execution": {
     "iopub.execute_input": "2022-10-31T15:50:31.026328Z",
     "iopub.status.busy": "2022-10-31T15:50:31.025825Z",
     "iopub.status.idle": "2022-10-31T15:50:31.035796Z",
     "shell.execute_reply": "2022-10-31T15:50:31.03492Z",
     "shell.execute_reply.started": "2022-10-31T15:50:31.026284Z"
    },
    "id": "FY3O4mxJg6Vd"
   },
   "outputs": [],
   "source": [
    "models = {\n",
    "         \"SVC\": SVC(),\n",
    "         \"Naive Bayes\": GaussianNB()      \n",
    "        }"
   ]
  },
  {
   "cell_type": "code",
   "execution_count": 33,
   "metadata": {
    "execution": {
     "iopub.execute_input": "2022-10-31T15:50:31.037118Z",
     "iopub.status.busy": "2022-10-31T15:50:31.036788Z",
     "iopub.status.idle": "2022-10-31T15:50:31.062451Z",
     "shell.execute_reply": "2022-10-31T15:50:31.061167Z",
     "shell.execute_reply.started": "2022-10-31T15:50:31.037091Z"
    },
    "id": "Y2vJqLaOhMFt",
    "outputId": "5f4ba119-5169-40a2-b9c5-7d6967f24304"
   },
   "outputs": [
    {
     "data": {
      "text/plain": [
       "{'SVC': 1.0, 'Naive Bayes': 0.815}"
      ]
     },
     "execution_count": 33,
     "metadata": {},
     "output_type": "execute_result"
    }
   ],
   "source": [
    "model_scores = evaluate(models = models,\n",
    "                        X_train = X_train,\n",
    "                        X_test = X_test,\n",
    "                        y_train = y_train,\n",
    "                        y_test = y_test)\n",
    "\n",
    "model_scores"
   ]
  },
  {
   "cell_type": "code",
   "execution_count": 34,
   "metadata": {
    "execution": {
     "iopub.execute_input": "2022-10-31T15:50:31.064272Z",
     "iopub.status.busy": "2022-10-31T15:50:31.06379Z",
     "iopub.status.idle": "2022-10-31T15:50:31.069884Z",
     "shell.execute_reply": "2022-10-31T15:50:31.068611Z",
     "shell.execute_reply.started": "2022-10-31T15:50:31.064225Z"
    },
    "id": "eZSw2KPRhOTw"
   },
   "outputs": [],
   "source": [
    "model_scores = model_scores.values()\n",
    "model_scores = list(model_scores)\n",
    "svc = model_scores[0]\n",
    "nb = model_scores[1]"
   ]
  },
  {
   "cell_type": "code",
   "execution_count": 35,
   "metadata": {
    "execution": {
     "iopub.execute_input": "2022-10-31T15:50:31.071422Z",
     "iopub.status.busy": "2022-10-31T15:50:31.071093Z",
     "iopub.status.idle": "2022-10-31T15:50:31.083945Z",
     "shell.execute_reply": "2022-10-31T15:50:31.08267Z",
     "shell.execute_reply.started": "2022-10-31T15:50:31.071393Z"
    },
    "id": "9cYsIynLk-oS",
    "outputId": "b384df41-638d-4acc-dcec-906d5b296a0d"
   },
   "outputs": [
    {
     "name": "stdout",
     "output_type": "stream",
     "text": [
      "SVC: 100.00%\n",
      "Naive Bayes: 81.50%\n"
     ]
    }
   ],
   "source": [
    "print(f\"SVC: {svc * 100:.2f}%\")\n",
    "print(f\"Naive Bayes: {nb * 100:.2f}%\")"
   ]
  },
  {
   "cell_type": "markdown",
   "metadata": {
    "id": "QLBU6_QulMJk"
   },
   "source": [
    "### Final fitting"
   ]
  },
  {
   "cell_type": "code",
   "execution_count": 36,
   "metadata": {
    "execution": {
     "iopub.execute_input": "2022-10-31T15:50:31.085964Z",
     "iopub.status.busy": "2022-10-31T15:50:31.085623Z",
     "iopub.status.idle": "2022-10-31T15:50:31.110038Z",
     "shell.execute_reply": "2022-10-31T15:50:31.108878Z",
     "shell.execute_reply.started": "2022-10-31T15:50:31.085929Z"
    },
    "id": "KZU9mFcZmGEe",
    "outputId": "39a76228-7c18-4bf7-9bc6-8606fc3fa397"
   },
   "outputs": [
    {
     "data": {
      "text/plain": [
       "1.0"
      ]
     },
     "execution_count": 36,
     "metadata": {},
     "output_type": "execute_result"
    }
   ],
   "source": [
    "model = SVC(probability = True)\n",
    "model.fit(X_train, y_train)\n",
    "\n",
    "model.score(X_test, y_test)"
   ]
  },
  {
   "cell_type": "code",
   "execution_count": 37,
   "metadata": {
    "execution": {
     "iopub.execute_input": "2022-10-31T15:50:31.112657Z",
     "iopub.status.busy": "2022-10-31T15:50:31.111681Z",
     "iopub.status.idle": "2022-10-31T15:50:31.119575Z",
     "shell.execute_reply": "2022-10-31T15:50:31.118498Z",
     "shell.execute_reply.started": "2022-10-31T15:50:31.112621Z"
    },
    "id": "mzOsBOR-mQbK"
   },
   "outputs": [
    {
     "data": {
      "text/plain": [
       "array(['Medium', 'Medium', 'Medium', 'High', 'Medium', 'Medium', 'Medium',\n",
       "       'Medium', 'Medium', 'Medium', 'Low', 'Medium', 'Medium', 'Medium',\n",
       "       'Low', 'High', 'Low', 'High', 'High', 'High', 'High', 'Medium',\n",
       "       'Low', 'Medium', 'High', 'Low', 'Medium', 'High', 'Low', 'Low',\n",
       "       'Low', 'High', 'Medium', 'Low', 'Low', 'High', 'High', 'Medium',\n",
       "       'High', 'Low', 'High', 'High', 'Low', 'Medium', 'Medium', 'Low',\n",
       "       'Low', 'Medium', 'High', 'Low', 'Medium', 'High', 'Low', 'High',\n",
       "       'High', 'High', 'Low', 'High', 'High', 'Low', 'Medium', 'Low',\n",
       "       'High', 'High', 'Low', 'Medium', 'High', 'High', 'Medium', 'High',\n",
       "       'High', 'Low', 'Medium', 'Medium', 'Medium', 'Medium', 'High',\n",
       "       'Low', 'Low', 'Medium', 'Medium', 'Medium', 'Low', 'Medium',\n",
       "       'High', 'High', 'High', 'Low', 'High', 'High', 'Low', 'Low',\n",
       "       'Medium', 'High', 'High', 'High', 'High', 'High', 'Medium', 'Low',\n",
       "       'Low', 'High', 'Low', 'Low', 'Medium', 'High', 'High', 'Medium',\n",
       "       'Medium', 'Medium', 'Medium', 'High', 'High', 'Low', 'Medium',\n",
       "       'High', 'Medium', 'High', 'Medium', 'Medium', 'High', 'High',\n",
       "       'Low', 'Low', 'Medium', 'High', 'High', 'High', 'High', 'High',\n",
       "       'Low', 'Medium', 'Low', 'High', 'Medium', 'Low', 'Medium', 'High',\n",
       "       'Medium', 'Medium', 'Low', 'Medium', 'Low', 'Low', 'High',\n",
       "       'Medium', 'Low', 'High', 'Low', 'High', 'High', 'Low', 'Low',\n",
       "       'High', 'Low', 'High', 'High', 'High', 'Low', 'High', 'Low',\n",
       "       'High', 'High', 'High', 'High', 'Medium', 'Medium', 'High', 'High',\n",
       "       'High', 'High', 'Medium', 'High', 'High', 'Low', 'High', 'Medium',\n",
       "       'Low', 'Medium', 'High', 'Low', 'High', 'Low', 'Medium', 'High',\n",
       "       'Medium', 'High', 'Medium', 'Low', 'Medium', 'Low', 'Low',\n",
       "       'Medium', 'High', 'High', 'Medium', 'High', 'High', 'Low',\n",
       "       'Medium'], dtype=object)"
      ]
     },
     "execution_count": 37,
     "metadata": {},
     "output_type": "execute_result"
    }
   ],
   "source": [
    "y_preds = model.predict(X_test)\n",
    "y_preds"
   ]
  },
  {
   "cell_type": "code",
   "execution_count": 38,
   "metadata": {
    "execution": {
     "iopub.execute_input": "2022-10-31T15:50:31.122014Z",
     "iopub.status.busy": "2022-10-31T15:50:31.121239Z",
     "iopub.status.idle": "2022-10-31T15:50:31.377831Z",
     "shell.execute_reply": "2022-10-31T15:50:31.376713Z",
     "shell.execute_reply.started": "2022-10-31T15:50:31.121965Z"
    },
    "id": "ZcK6dzD5mkEl",
    "outputId": "ba2384f9-3ce5-4be6-ac14-faf229e63bf2"
   },
   "outputs": [
    {
     "data": {
      "image/png": "[encoded data removed]",
      "text/plain": [
       "<Figure size 432x288 with 2 Axes>"
      ]
     },
     "metadata": {
      "needs_background": "light"
     },
     "output_type": "display_data"
    }
   ],
   "source": [
    "ConfusionMatrixDisplay.from_predictions(y_true = y_test, \n",
    "                                        y_pred = y_preds);"
   ]
  },
  {
   "cell_type": "code",
   "execution_count": 39,
   "metadata": {
    "execution": {
     "iopub.execute_input": "2022-10-31T15:50:31.381998Z",
     "iopub.status.busy": "2022-10-31T15:50:31.381645Z",
     "iopub.status.idle": "2022-10-31T15:50:31.388516Z",
     "shell.execute_reply": "2022-10-31T15:50:31.387273Z",
     "shell.execute_reply.started": "2022-10-31T15:50:31.381958Z"
    },
    "id": "uA8PEHc4mc2e"
   },
   "outputs": [],
   "source": [
    "def model_report(y_test, y_preds):\n",
    "    print(f\"Accuracy: {accuracy_score(y_test, y_preds) * 100:.2f}%\")\n",
    "    print(f\"Precision: {precision_score(y_test, y_preds)}\")\n",
    "    print(f\"Recall: {recall_score(y_test, y_preds)}\")\n",
    "    print(f\"R2 Score: {r2_score(y_test, y_preds)}\")\n",
    "    print(f\"F1 Score: {f1_score(y_test, y_preds)}\")\n",
    "    print(f\"MAE: {mean_absolute_error(y_test, y_preds)}\")\n",
    "    print(f\"MSE: {mean_squared_error(y_test, y_preds)}\")"
   ]
  },
  {
   "cell_type": "code",
   "execution_count": 40,
   "metadata": {
    "execution": {
     "iopub.execute_input": "2022-10-31T15:50:31.390568Z",
     "iopub.status.busy": "2022-10-31T15:50:31.389652Z",
     "iopub.status.idle": "2022-10-31T15:50:31.407957Z",
     "shell.execute_reply": "2022-10-31T15:50:31.406676Z",
     "shell.execute_reply.started": "2022-10-31T15:50:31.390531Z"
    },
    "id": "AjPL68ifmd9e",
    "outputId": "8d518179-1baf-45ea-90b8-7103b8a1e871"
   },
   "outputs": [
    {
     "name": "stdout",
     "output_type": "stream",
     "text": [
      "Accuracy: 100.00%\n"
     ]
    },
    {
     "ename": "ValueError",
     "evalue": "Target is multiclass but average='binary'. Please choose another average setting, one of [None, 'micro', 'macro', 'weighted'].",
     "output_type": "error",
     "traceback": [
      "\u001b[1;31m---------------------------------------------------------------------------\u001b[0m",
      "\u001b[1;31mValueError\u001b[0m                                Traceback (most recent call last)",
      "\u001b[1;32m~\\AppData\\Local\\Temp/ipykernel_15400/876908033.py\u001b[0m in \u001b[0;36m<module>\u001b[1;34m\u001b[0m\n\u001b[1;32m----> 1\u001b[1;33m \u001b[0mmodel_report\u001b[0m\u001b[1;33m(\u001b[0m\u001b[0my_test\u001b[0m\u001b[1;33m,\u001b[0m \u001b[0my_preds\u001b[0m\u001b[1;33m)\u001b[0m\u001b[1;33m\u001b[0m\u001b[1;33m\u001b[0m\u001b[0m\n\u001b[0m",
      "\u001b[1;32m~\\AppData\\Local\\Temp/ipykernel_15400/3784910851.py\u001b[0m in \u001b[0;36mmodel_report\u001b[1;34m(y_test, y_preds)\u001b[0m\n\u001b[0;32m      1\u001b[0m \u001b[1;32mdef\u001b[0m \u001b[0mmodel_report\u001b[0m\u001b[1;33m(\u001b[0m\u001b[0my_test\u001b[0m\u001b[1;33m,\u001b[0m \u001b[0my_preds\u001b[0m\u001b[1;33m)\u001b[0m\u001b[1;33m:\u001b[0m\u001b[1;33m\u001b[0m\u001b[1;33m\u001b[0m\u001b[0m\n\u001b[0;32m      2\u001b[0m     \u001b[0mprint\u001b[0m\u001b[1;33m(\u001b[0m\u001b[1;34mf\"Accuracy: {accuracy_score(y_test, y_preds) * 100:.2f}%\"\u001b[0m\u001b[1;33m)\u001b[0m\u001b[1;33m\u001b[0m\u001b[1;33m\u001b[0m\u001b[0m\n\u001b[1;32m----> 3\u001b[1;33m     \u001b[0mprint\u001b[0m\u001b[1;33m(\u001b[0m\u001b[1;34mf\"Precision: {precision_score(y_test, y_preds)}\"\u001b[0m\u001b[1;33m)\u001b[0m\u001b[1;33m\u001b[0m\u001b[1;33m\u001b[0m\u001b[0m\n\u001b[0m\u001b[0;32m      4\u001b[0m     \u001b[0mprint\u001b[0m\u001b[1;33m(\u001b[0m\u001b[1;34mf\"Recall: {recall_score(y_test, y_preds)}\"\u001b[0m\u001b[1;33m)\u001b[0m\u001b[1;33m\u001b[0m\u001b[1;33m\u001b[0m\u001b[0m\n\u001b[0;32m      5\u001b[0m     \u001b[0mprint\u001b[0m\u001b[1;33m(\u001b[0m\u001b[1;34mf\"R2 Score: {r2_score(y_test, y_preds)}\"\u001b[0m\u001b[1;33m)\u001b[0m\u001b[1;33m\u001b[0m\u001b[1;33m\u001b[0m\u001b[0m\n",
      "\u001b[1;32m~\\miniconda3\\lib\\site-packages\\sklearn\\metrics\\_classification.py\u001b[0m in \u001b[0;36mprecision_score\u001b[1;34m(y_true, y_pred, labels, pos_label, average, sample_weight, zero_division)\u001b[0m\n\u001b[0;32m   1952\u001b[0m     \u001b[0marray\u001b[0m\u001b[1;33m(\u001b[0m\u001b[1;33m[\u001b[0m\u001b[1;36m0.5\u001b[0m\u001b[1;33m,\u001b[0m \u001b[1;36m1.\u001b[0m \u001b[1;33m,\u001b[0m \u001b[1;36m1.\u001b[0m \u001b[1;33m]\u001b[0m\u001b[1;33m)\u001b[0m\u001b[1;33m\u001b[0m\u001b[1;33m\u001b[0m\u001b[0m\n\u001b[0;32m   1953\u001b[0m     \"\"\"\n\u001b[1;32m-> 1954\u001b[1;33m     p, _, _, _ = precision_recall_fscore_support(\n\u001b[0m\u001b[0;32m   1955\u001b[0m         \u001b[0my_true\u001b[0m\u001b[1;33m,\u001b[0m\u001b[1;33m\u001b[0m\u001b[1;33m\u001b[0m\u001b[0m\n\u001b[0;32m   1956\u001b[0m         \u001b[0my_pred\u001b[0m\u001b[1;33m,\u001b[0m\u001b[1;33m\u001b[0m\u001b[1;33m\u001b[0m\u001b[0m\n",
      "\u001b[1;32m~\\miniconda3\\lib\\site-packages\\sklearn\\metrics\\_classification.py\u001b[0m in \u001b[0;36mprecision_recall_fscore_support\u001b[1;34m(y_true, y_pred, beta, labels, pos_label, average, warn_for, sample_weight, zero_division)\u001b[0m\n\u001b[0;32m   1571\u001b[0m     \u001b[1;32mif\u001b[0m \u001b[0mbeta\u001b[0m \u001b[1;33m<\u001b[0m \u001b[1;36m0\u001b[0m\u001b[1;33m:\u001b[0m\u001b[1;33m\u001b[0m\u001b[1;33m\u001b[0m\u001b[0m\n\u001b[0;32m   1572\u001b[0m         \u001b[1;32mraise\u001b[0m \u001b[0mValueError\u001b[0m\u001b[1;33m(\u001b[0m\u001b[1;34m\"beta should be >=0 in the F-beta score\"\u001b[0m\u001b[1;33m)\u001b[0m\u001b[1;33m\u001b[0m\u001b[1;33m\u001b[0m\u001b[0m\n\u001b[1;32m-> 1573\u001b[1;33m     \u001b[0mlabels\u001b[0m \u001b[1;33m=\u001b[0m \u001b[0m_check_set_wise_labels\u001b[0m\u001b[1;33m(\u001b[0m\u001b[0my_true\u001b[0m\u001b[1;33m,\u001b[0m \u001b[0my_pred\u001b[0m\u001b[1;33m,\u001b[0m \u001b[0maverage\u001b[0m\u001b[1;33m,\u001b[0m \u001b[0mlabels\u001b[0m\u001b[1;33m,\u001b[0m \u001b[0mpos_label\u001b[0m\u001b[1;33m)\u001b[0m\u001b[1;33m\u001b[0m\u001b[1;33m\u001b[0m\u001b[0m\n\u001b[0m\u001b[0;32m   1574\u001b[0m \u001b[1;33m\u001b[0m\u001b[0m\n\u001b[0;32m   1575\u001b[0m     \u001b[1;31m# Calculate tp_sum, pred_sum, true_sum ###\u001b[0m\u001b[1;33m\u001b[0m\u001b[1;33m\u001b[0m\u001b[1;33m\u001b[0m\u001b[0m\n",
      "\u001b[1;32m~\\miniconda3\\lib\\site-packages\\sklearn\\metrics\\_classification.py\u001b[0m in \u001b[0;36m_check_set_wise_labels\u001b[1;34m(y_true, y_pred, average, labels, pos_label)\u001b[0m\n\u001b[0;32m   1389\u001b[0m             \u001b[1;32mif\u001b[0m \u001b[0my_type\u001b[0m \u001b[1;33m==\u001b[0m \u001b[1;34m\"multiclass\"\u001b[0m\u001b[1;33m:\u001b[0m\u001b[1;33m\u001b[0m\u001b[1;33m\u001b[0m\u001b[0m\n\u001b[0;32m   1390\u001b[0m                 \u001b[0maverage_options\u001b[0m\u001b[1;33m.\u001b[0m\u001b[0mremove\u001b[0m\u001b[1;33m(\u001b[0m\u001b[1;34m\"samples\"\u001b[0m\u001b[1;33m)\u001b[0m\u001b[1;33m\u001b[0m\u001b[1;33m\u001b[0m\u001b[0m\n\u001b[1;32m-> 1391\u001b[1;33m             raise ValueError(\n\u001b[0m\u001b[0;32m   1392\u001b[0m                 \u001b[1;34m\"Target is %s but average='binary'. Please \"\u001b[0m\u001b[1;33m\u001b[0m\u001b[1;33m\u001b[0m\u001b[0m\n\u001b[0;32m   1393\u001b[0m                 \u001b[1;34m\"choose another average setting, one of %r.\"\u001b[0m \u001b[1;33m%\u001b[0m \u001b[1;33m(\u001b[0m\u001b[0my_type\u001b[0m\u001b[1;33m,\u001b[0m \u001b[0maverage_options\u001b[0m\u001b[1;33m)\u001b[0m\u001b[1;33m\u001b[0m\u001b[1;33m\u001b[0m\u001b[0m\n",
      "\u001b[1;31mValueError\u001b[0m: Target is multiclass but average='binary'. Please choose another average setting, one of [None, 'micro', 'macro', 'weighted']."
     ]
    }
   ],
   "source": [
    "model_report(y_test, y_preds)"
   ]
  },
  {
   "cell_type": "code",
   "execution_count": 41,
   "metadata": {},
   "outputs": [
    {
     "data": {
      "text/html": [
       "<div>\n",
       "<style scoped>\n",
       "    .dataframe tbody tr th:only-of-type {\n",
       "        vertical-align: middle;\n",
       "    }\n",
       "\n",
       "    .dataframe tbody tr th {\n",
       "        vertical-align: top;\n",
       "    }\n",
       "\n",
       "    .dataframe thead th {\n",
       "        text-align: right;\n",
       "    }\n",
       "</style>\n",
       "<table border=\"1\" class=\"dataframe\">\n",
       "  <thead>\n",
       "    <tr style=\"text-align: right;\">\n",
       "      <th></th>\n",
       "      <th>air pollution</th>\n",
       "      <th>alcohol use</th>\n",
       "      <th>dust allergy</th>\n",
       "      <th>occupational hazards</th>\n",
       "      <th>genetic risk</th>\n",
       "      <th>chronic lung disease</th>\n",
       "      <th>balanced diet</th>\n",
       "      <th>obesity</th>\n",
       "      <th>smoking</th>\n",
       "      <th>passive smoker</th>\n",
       "      <th>chest pain</th>\n",
       "      <th>coughing of blood</th>\n",
       "      <th>fatigue</th>\n",
       "    </tr>\n",
       "  </thead>\n",
       "  <tbody>\n",
       "    <tr>\n",
       "      <th>522</th>\n",
       "      <td>1</td>\n",
       "      <td>6</td>\n",
       "      <td>7</td>\n",
       "      <td>8</td>\n",
       "      <td>7</td>\n",
       "      <td>6</td>\n",
       "      <td>7</td>\n",
       "      <td>7</td>\n",
       "      <td>3</td>\n",
       "      <td>4</td>\n",
       "      <td>8</td>\n",
       "      <td>7</td>\n",
       "      <td>3</td>\n",
       "    </tr>\n",
       "    <tr>\n",
       "      <th>738</th>\n",
       "      <td>6</td>\n",
       "      <td>8</td>\n",
       "      <td>7</td>\n",
       "      <td>7</td>\n",
       "      <td>7</td>\n",
       "      <td>6</td>\n",
       "      <td>2</td>\n",
       "      <td>4</td>\n",
       "      <td>1</td>\n",
       "      <td>2</td>\n",
       "      <td>4</td>\n",
       "      <td>3</td>\n",
       "      <td>2</td>\n",
       "    </tr>\n",
       "    <tr>\n",
       "      <th>741</th>\n",
       "      <td>6</td>\n",
       "      <td>8</td>\n",
       "      <td>7</td>\n",
       "      <td>7</td>\n",
       "      <td>7</td>\n",
       "      <td>6</td>\n",
       "      <td>2</td>\n",
       "      <td>4</td>\n",
       "      <td>1</td>\n",
       "      <td>2</td>\n",
       "      <td>4</td>\n",
       "      <td>3</td>\n",
       "      <td>2</td>\n",
       "    </tr>\n",
       "    <tr>\n",
       "      <th>661</th>\n",
       "      <td>7</td>\n",
       "      <td>7</td>\n",
       "      <td>7</td>\n",
       "      <td>7</td>\n",
       "      <td>6</td>\n",
       "      <td>7</td>\n",
       "      <td>7</td>\n",
       "      <td>7</td>\n",
       "      <td>7</td>\n",
       "      <td>7</td>\n",
       "      <td>7</td>\n",
       "      <td>8</td>\n",
       "      <td>4</td>\n",
       "    </tr>\n",
       "    <tr>\n",
       "      <th>412</th>\n",
       "      <td>1</td>\n",
       "      <td>6</td>\n",
       "      <td>7</td>\n",
       "      <td>5</td>\n",
       "      <td>3</td>\n",
       "      <td>2</td>\n",
       "      <td>6</td>\n",
       "      <td>2</td>\n",
       "      <td>3</td>\n",
       "      <td>3</td>\n",
       "      <td>2</td>\n",
       "      <td>2</td>\n",
       "      <td>3</td>\n",
       "    </tr>\n",
       "    <tr>\n",
       "      <th>...</th>\n",
       "      <td>...</td>\n",
       "      <td>...</td>\n",
       "      <td>...</td>\n",
       "      <td>...</td>\n",
       "      <td>...</td>\n",
       "      <td>...</td>\n",
       "      <td>...</td>\n",
       "      <td>...</td>\n",
       "      <td>...</td>\n",
       "      <td>...</td>\n",
       "      <td>...</td>\n",
       "      <td>...</td>\n",
       "      <td>...</td>\n",
       "    </tr>\n",
       "    <tr>\n",
       "      <th>409</th>\n",
       "      <td>2</td>\n",
       "      <td>1</td>\n",
       "      <td>5</td>\n",
       "      <td>3</td>\n",
       "      <td>2</td>\n",
       "      <td>3</td>\n",
       "      <td>2</td>\n",
       "      <td>4</td>\n",
       "      <td>1</td>\n",
       "      <td>4</td>\n",
       "      <td>2</td>\n",
       "      <td>4</td>\n",
       "      <td>6</td>\n",
       "    </tr>\n",
       "    <tr>\n",
       "      <th>333</th>\n",
       "      <td>6</td>\n",
       "      <td>8</td>\n",
       "      <td>7</td>\n",
       "      <td>7</td>\n",
       "      <td>7</td>\n",
       "      <td>6</td>\n",
       "      <td>7</td>\n",
       "      <td>7</td>\n",
       "      <td>8</td>\n",
       "      <td>7</td>\n",
       "      <td>7</td>\n",
       "      <td>9</td>\n",
       "      <td>3</td>\n",
       "    </tr>\n",
       "    <tr>\n",
       "      <th>209</th>\n",
       "      <td>6</td>\n",
       "      <td>7</td>\n",
       "      <td>7</td>\n",
       "      <td>7</td>\n",
       "      <td>7</td>\n",
       "      <td>6</td>\n",
       "      <td>7</td>\n",
       "      <td>7</td>\n",
       "      <td>7</td>\n",
       "      <td>8</td>\n",
       "      <td>7</td>\n",
       "      <td>7</td>\n",
       "      <td>5</td>\n",
       "    </tr>\n",
       "    <tr>\n",
       "      <th>614</th>\n",
       "      <td>2</td>\n",
       "      <td>3</td>\n",
       "      <td>2</td>\n",
       "      <td>1</td>\n",
       "      <td>3</td>\n",
       "      <td>2</td>\n",
       "      <td>1</td>\n",
       "      <td>2</td>\n",
       "      <td>7</td>\n",
       "      <td>6</td>\n",
       "      <td>2</td>\n",
       "      <td>2</td>\n",
       "      <td>2</td>\n",
       "    </tr>\n",
       "    <tr>\n",
       "      <th>79</th>\n",
       "      <td>1</td>\n",
       "      <td>6</td>\n",
       "      <td>7</td>\n",
       "      <td>5</td>\n",
       "      <td>3</td>\n",
       "      <td>2</td>\n",
       "      <td>6</td>\n",
       "      <td>2</td>\n",
       "      <td>3</td>\n",
       "      <td>3</td>\n",
       "      <td>2</td>\n",
       "      <td>2</td>\n",
       "      <td>3</td>\n",
       "    </tr>\n",
       "  </tbody>\n",
       "</table>\n",
       "<p>200 rows × 13 columns</p>\n",
       "</div>"
      ],
      "text/plain": [
       "0   air pollution alcohol use dust allergy occupational hazards genetic risk  \\\n",
       "522             1           6            7                    8            7   \n",
       "738             6           8            7                    7            7   \n",
       "741             6           8            7                    7            7   \n",
       "661             7           7            7                    7            6   \n",
       "412             1           6            7                    5            3   \n",
       "..            ...         ...          ...                  ...          ...   \n",
       "409             2           1            5                    3            2   \n",
       "333             6           8            7                    7            7   \n",
       "209             6           7            7                    7            7   \n",
       "614             2           3            2                    1            3   \n",
       "79              1           6            7                    5            3   \n",
       "\n",
       "0   chronic lung disease balanced diet obesity smoking passive smoker  \\\n",
       "522                    6             7       7       3              4   \n",
       "738                    6             2       4       1              2   \n",
       "741                    6             2       4       1              2   \n",
       "661                    7             7       7       7              7   \n",
       "412                    2             6       2       3              3   \n",
       "..                   ...           ...     ...     ...            ...   \n",
       "409                    3             2       4       1              4   \n",
       "333                    6             7       7       8              7   \n",
       "209                    6             7       7       7              8   \n",
       "614                    2             1       2       7              6   \n",
       "79                     2             6       2       3              3   \n",
       "\n",
       "0   chest pain coughing of blood fatigue  \n",
       "522          8                 7       3  \n",
       "738          4                 3       2  \n",
       "741          4                 3       2  \n",
       "661          7                 8       4  \n",
       "412          2                 2       3  \n",
       "..         ...               ...     ...  \n",
       "409          2                 4       6  \n",
       "333          7                 9       3  \n",
       "209          7                 7       5  \n",
       "614          2                 2       2  \n",
       "79           2                 2       3  \n",
       "\n",
       "[200 rows x 13 columns]"
      ]
     },
     "execution_count": 41,
     "metadata": {},
     "output_type": "execute_result"
    }
   ],
   "source": [
    "X_test"
   ]
  },
  {
   "cell_type": "code",
   "execution_count": 42,
   "metadata": {
    "execution": {
     "iopub.execute_input": "2022-10-31T15:50:31.409636Z",
     "iopub.status.busy": "2022-10-31T15:50:31.409285Z",
     "iopub.status.idle": "2022-10-31T15:50:31.421411Z",
     "shell.execute_reply": "2022-10-31T15:50:31.419957Z",
     "shell.execute_reply.started": "2022-10-31T15:50:31.409606Z"
    },
    "id": "GhJPQkxYmgS8",
    "outputId": "bf846c4d-aa08-427c-b3aa-1a1b2ad87e40"
   },
   "outputs": [
    {
     "data": {
      "text/plain": [
       "array([0.00431455, 0.00426119, 0.00426119, 0.0017428 , 0.00411843,\n",
       "       0.00034037, 0.00426119, 0.00411843, 0.00426119, 0.00426119])"
      ]
     },
     "execution_count": 42,
     "metadata": {},
     "output_type": "execute_result"
    }
   ],
   "source": [
    "y_probs = model.predict_proba(X_test)\n",
    "y_probs_positive = y_probs[:, 1]\n",
    "y_probs_positive[:10]"
   ]
  },
  {
   "cell_type": "code",
   "execution_count": 43,
   "metadata": {
    "execution": {
     "iopub.execute_input": "2022-10-31T15:50:31.423253Z",
     "iopub.status.busy": "2022-10-31T15:50:31.422921Z",
     "iopub.status.idle": "2022-10-31T15:50:31.430648Z",
     "shell.execute_reply": "2022-10-31T15:50:31.429213Z",
     "shell.execute_reply.started": "2022-10-31T15:50:31.423223Z"
    },
    "id": "e6blrC1nmzz0"
   },
   "outputs": [],
   "source": [
    "def plot_roc_curve(fpr, tpr):\n",
    "    plt.plot(fpr, tpr, color = \"green\", label = \"ROC\")\n",
    "\n",
    "    plt.xlabel(\"False positive rate (fpr)\")\n",
    "    plt.ylabel(\"True positive rate (tpr)\")\n",
    "    plt.title(\"Receiver Operating Characteristic (ROC) Curve\")\n",
    "    plt.legend();"
   ]
  },
  {
   "cell_type": "code",
   "execution_count": 44,
   "metadata": {
    "execution": {
     "iopub.execute_input": "2022-10-31T15:50:31.43326Z",
     "iopub.status.busy": "2022-10-31T15:50:31.432338Z",
     "iopub.status.idle": "2022-10-31T15:50:31.680009Z",
     "shell.execute_reply": "2022-10-31T15:50:31.678797Z",
     "shell.execute_reply.started": "2022-10-31T15:50:31.43322Z"
    },
    "id": "awwzhg0TnQNm",
    "outputId": "b488120c-0325-40c5-d09d-528aa16efdfe"
   },
   "outputs": [
    {
     "ename": "ValueError",
     "evalue": "multiclass format is not supported",
     "output_type": "error",
     "traceback": [
      "\u001b[1;31m---------------------------------------------------------------------------\u001b[0m",
      "\u001b[1;31mValueError\u001b[0m                                Traceback (most recent call last)",
      "\u001b[1;32m~\\AppData\\Local\\Temp/ipykernel_15400/1423601647.py\u001b[0m in \u001b[0;36m<module>\u001b[1;34m\u001b[0m\n\u001b[1;32m----> 1\u001b[1;33m \u001b[0mfpr\u001b[0m\u001b[1;33m,\u001b[0m \u001b[0mtpr\u001b[0m\u001b[1;33m,\u001b[0m \u001b[0mthresholds\u001b[0m \u001b[1;33m=\u001b[0m \u001b[0mroc_curve\u001b[0m\u001b[1;33m(\u001b[0m\u001b[0my_test\u001b[0m\u001b[1;33m,\u001b[0m \u001b[0my_probs_positive\u001b[0m\u001b[1;33m)\u001b[0m\u001b[1;33m\u001b[0m\u001b[1;33m\u001b[0m\u001b[0m\n\u001b[0m\u001b[0;32m      2\u001b[0m \u001b[0mplot_roc_curve\u001b[0m\u001b[1;33m(\u001b[0m\u001b[0mfpr\u001b[0m\u001b[1;33m,\u001b[0m \u001b[0mtpr\u001b[0m\u001b[1;33m)\u001b[0m\u001b[1;33m\u001b[0m\u001b[1;33m\u001b[0m\u001b[0m\n",
      "\u001b[1;32m~\\miniconda3\\lib\\site-packages\\sklearn\\metrics\\_ranking.py\u001b[0m in \u001b[0;36mroc_curve\u001b[1;34m(y_true, y_score, pos_label, sample_weight, drop_intermediate)\u001b[0m\n\u001b[0;32m    990\u001b[0m     \u001b[0marray\u001b[0m\u001b[1;33m(\u001b[0m\u001b[1;33m[\u001b[0m\u001b[1;36m1.8\u001b[0m \u001b[1;33m,\u001b[0m \u001b[1;36m0.8\u001b[0m \u001b[1;33m,\u001b[0m \u001b[1;36m0.4\u001b[0m \u001b[1;33m,\u001b[0m \u001b[1;36m0.35\u001b[0m\u001b[1;33m,\u001b[0m \u001b[1;36m0.1\u001b[0m \u001b[1;33m]\u001b[0m\u001b[1;33m)\u001b[0m\u001b[1;33m\u001b[0m\u001b[1;33m\u001b[0m\u001b[0m\n\u001b[0;32m    991\u001b[0m     \"\"\"\n\u001b[1;32m--> 992\u001b[1;33m     fps, tps, thresholds = _binary_clf_curve(\n\u001b[0m\u001b[0;32m    993\u001b[0m         \u001b[0my_true\u001b[0m\u001b[1;33m,\u001b[0m \u001b[0my_score\u001b[0m\u001b[1;33m,\u001b[0m \u001b[0mpos_label\u001b[0m\u001b[1;33m=\u001b[0m\u001b[0mpos_label\u001b[0m\u001b[1;33m,\u001b[0m \u001b[0msample_weight\u001b[0m\u001b[1;33m=\u001b[0m\u001b[0msample_weight\u001b[0m\u001b[1;33m\u001b[0m\u001b[1;33m\u001b[0m\u001b[0m\n\u001b[0;32m    994\u001b[0m     )\n",
      "\u001b[1;32m~\\miniconda3\\lib\\site-packages\\sklearn\\metrics\\_ranking.py\u001b[0m in \u001b[0;36m_binary_clf_curve\u001b[1;34m(y_true, y_score, pos_label, sample_weight)\u001b[0m\n\u001b[0;32m    747\u001b[0m     \u001b[0my_type\u001b[0m \u001b[1;33m=\u001b[0m \u001b[0mtype_of_target\u001b[0m\u001b[1;33m(\u001b[0m\u001b[0my_true\u001b[0m\u001b[1;33m,\u001b[0m \u001b[0minput_name\u001b[0m\u001b[1;33m=\u001b[0m\u001b[1;34m\"y_true\"\u001b[0m\u001b[1;33m)\u001b[0m\u001b[1;33m\u001b[0m\u001b[1;33m\u001b[0m\u001b[0m\n\u001b[0;32m    748\u001b[0m     \u001b[1;32mif\u001b[0m \u001b[1;32mnot\u001b[0m \u001b[1;33m(\u001b[0m\u001b[0my_type\u001b[0m \u001b[1;33m==\u001b[0m \u001b[1;34m\"binary\"\u001b[0m \u001b[1;32mor\u001b[0m \u001b[1;33m(\u001b[0m\u001b[0my_type\u001b[0m \u001b[1;33m==\u001b[0m \u001b[1;34m\"multiclass\"\u001b[0m \u001b[1;32mand\u001b[0m \u001b[0mpos_label\u001b[0m \u001b[1;32mis\u001b[0m \u001b[1;32mnot\u001b[0m \u001b[1;32mNone\u001b[0m\u001b[1;33m)\u001b[0m\u001b[1;33m)\u001b[0m\u001b[1;33m:\u001b[0m\u001b[1;33m\u001b[0m\u001b[1;33m\u001b[0m\u001b[0m\n\u001b[1;32m--> 749\u001b[1;33m         \u001b[1;32mraise\u001b[0m \u001b[0mValueError\u001b[0m\u001b[1;33m(\u001b[0m\u001b[1;34m\"{0} format is not supported\"\u001b[0m\u001b[1;33m.\u001b[0m\u001b[0mformat\u001b[0m\u001b[1;33m(\u001b[0m\u001b[0my_type\u001b[0m\u001b[1;33m)\u001b[0m\u001b[1;33m)\u001b[0m\u001b[1;33m\u001b[0m\u001b[1;33m\u001b[0m\u001b[0m\n\u001b[0m\u001b[0;32m    750\u001b[0m \u001b[1;33m\u001b[0m\u001b[0m\n\u001b[0;32m    751\u001b[0m     \u001b[0mcheck_consistent_length\u001b[0m\u001b[1;33m(\u001b[0m\u001b[0my_true\u001b[0m\u001b[1;33m,\u001b[0m \u001b[0my_score\u001b[0m\u001b[1;33m,\u001b[0m \u001b[0msample_weight\u001b[0m\u001b[1;33m)\u001b[0m\u001b[1;33m\u001b[0m\u001b[1;33m\u001b[0m\u001b[0m\n",
      "\u001b[1;31mValueError\u001b[0m: multiclass format is not supported"
     ]
    }
   ],
   "source": [
    "fpr, tpr, thresholds = roc_curve(y_test, y_probs_positive)\n",
    "plot_roc_curve(fpr, tpr)"
   ]
  },
  {
   "cell_type": "code",
   "execution_count": 45,
   "metadata": {},
   "outputs": [
    {
     "data": {
      "text/plain": [
       "['xgbpipe.joblib']"
      ]
     },
     "execution_count": 45,
     "metadata": {},
     "output_type": "execute_result"
    }
   ],
   "source": [
    "import joblib\n",
    "joblib.dump(model, 'xgbpipe.joblib') "
   ]
  },
  {
   "cell_type": "code",
   "execution_count": 46,
   "metadata": {},
   "outputs": [],
   "source": [
    "model2 = joblib.load('xgbpipe.joblib')"
   ]
  },
  {
   "cell_type": "code",
   "execution_count": 47,
   "metadata": {},
   "outputs": [
    {
     "data": {
      "text/plain": [
       "Index(['air pollution', 'alcohol use', 'dust allergy', 'occupational hazards',\n",
       "       'genetic risk', 'chronic lung disease', 'balanced diet', 'obesity',\n",
       "       'smoking', 'passive smoker', 'chest pain', 'coughing of blood',\n",
       "       'fatigue'],\n",
       "      dtype='object', name=0)"
      ]
     },
     "execution_count": 47,
     "metadata": {},
     "output_type": "execute_result"
    }
   ],
   "source": [
    "df.columns"
   ]
  },
  {
   "cell_type": "code",
   "execution_count": 60,
   "metadata": {},
   "outputs": [],
   "source": [
    "a =np.array(13)\n",
    "a= (2,1,8,1,1,2,1,5,1,1,1,2,8)\n"
   ]
  },
  {
   "cell_type": "code",
   "execution_count": 61,
   "metadata": {},
   "outputs": [
    {
     "name": "stderr",
     "output_type": "stream",
     "text": [
      "C:\\Users\\david\\miniconda3\\lib\\site-packages\\sklearn\\base.py:409: UserWarning: X does not have valid feature names, but SVC was fitted with feature names\n",
      "  warnings.warn(\n"
     ]
    },
    {
     "data": {
      "text/plain": [
       "array(['Medium'], dtype=object)"
      ]
     },
     "execution_count": 61,
     "metadata": {},
     "output_type": "execute_result"
    }
   ],
   "source": [
    "y_preds = model2.predict([a])\n",
    "y_preds"
   ]
  },
  {
   "cell_type": "code",
   "execution_count": null,
   "metadata": {},
   "outputs": [],
   "source": []
  }
 ],
 "metadata": {
  "kernelspec": {
   "display_name": "Python 3 (ipykernel)",
   "language": "python",
   "name": "python3"
  },
  "language_info": {
   "codemirror_mode": {
    "name": "ipython",
    "version": 3
   },
   "file_extension": ".py",
   "mimetype": "text/x-python",
   "name": "python",
   "nbconvert_exporter": "python",
   "pygments_lexer": "ipython3",
   "version": "3.9.5"
  }
 },
 "nbformat": 4,
 "nbformat_minor": 4
}
